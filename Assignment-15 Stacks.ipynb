{
 "cells": [
  {
   "cell_type": "markdown",
   "id": "525b65a6",
   "metadata": {},
   "source": [
    "    \t\t\t\t\t\t\t\t\t\tAssignment-15 Stacks\n",
    "                                            Name: Aman Yadav\n",
    "                                            email: amanyadav18072000@gmail.com"
   ]
  },
  {
   "cell_type": "markdown",
   "id": "fff92eb2",
   "metadata": {},
   "source": [
    "<aside>\n",
    "💡 **Question 1**\n",
    "\n",
    "Given an array **arr[ ]** of size **N** having elements, the task is to find the next greater element for each element of the array in order of their appearance in the array.Next greater element of an element in the array is the nearest element on the right which is greater than the current element.If there does not exist next greater of current element, then next greater element for current element is -1. For example, next greater of the last element is always -1.\n",
    "\n",
    "**Example 1:**\n",
    "\n",
    "```\n",
    "Input:\n",
    "N = 4, arr[] = [1 3 2 4]\n",
    "Output:\n",
    "3 4 4 -1\n",
    "Explanation:\n",
    "In the array, the next larger element\n",
    "to 1 is 3 , 3 is 4 , 2 is 4 and for 4 ?\n",
    "since it doesn't exist, it is -1.\n",
    "\n",
    "```\n",
    "\n",
    "**Example 2:**\n",
    "    \n",
    "    Input:\n",
    "N = 5, arr[] [6 8 0 1 3]\n",
    "Output:\n",
    "8 -1 1 3 -1\n",
    "Explanation:\n",
    "In the array, the next larger element to\n",
    "6 is 8, for 8 there is no larger elements\n",
    "hence it is -1, for 0 it is 1 , for 1 it\n",
    "is 3 and then for 3 there is no larger\n",
    "element on right and hence -1.\n",
    "\n",
    "</aside>"
   ]
  },
  {
   "cell_type": "code",
   "execution_count": 1,
   "id": "31ddcb43",
   "metadata": {},
   "outputs": [],
   "source": [
    "def nextGreaterElement(arr):\n",
    "    n = len(arr)\n",
    "    result = [-1] * n\n",
    "    stack = []\n",
    "\n",
    "    for i in range(n - 1, -1, -1):\n",
    "        while stack and arr[i] >= arr[stack[-1]]:\n",
    "            stack.pop()\n",
    "\n",
    "        if stack:\n",
    "            result[i] = arr[stack[-1]]\n",
    "\n",
    "        stack.append(i)\n",
    "\n",
    "    return result\n"
   ]
  },
  {
   "cell_type": "code",
   "execution_count": 2,
   "id": "da4a51e8",
   "metadata": {},
   "outputs": [
    {
     "name": "stdout",
     "output_type": "stream",
     "text": [
      "[3, 4, 4, -1]\n",
      "[8, -1, 1, 3, -1]\n"
     ]
    }
   ],
   "source": [
    "arr1 = [1, 3, 2, 4]\n",
    "print(nextGreaterElement(arr1))  # Output: [3, 4, 4, -1]\n",
    "\n",
    "arr2 = [6, 8, 0, 1, 3]\n",
    "print(nextGreaterElement(arr2))  # Output: [8, -1, 1, 3, -1]\n"
   ]
  },
  {
   "cell_type": "markdown",
   "id": "638154fd",
   "metadata": {},
   "source": [
    "<aside>\n",
    "💡 **Question 2**\n",
    "\n",
    "Given an array **a** of integers of length **n**, find the nearest smaller number for every element such that the smaller element is on left side.If no small element present on the left print -1.\n",
    "\n",
    "**Example 1:**\n",
    "\n",
    "```\n",
    "Input: n = 3\n",
    "a = {1, 6, 2}\n",
    "Output: -1 1 1\n",
    "Explaination: There is no number at the\n",
    "left of 1. Smaller number than 6 and 2 is 1.\n",
    "```\n",
    "\n",
    "**Example 2:**\n",
    "    \n",
    "    Input: n = 6\n",
    "a = {1, 5, 0, 3, 4, 5}\n",
    "Output: -1 1 -1 0 3 4\n",
    "Explaination: Upto 3 it is easy to see\n",
    "the smaller numbers. But for 4 the smaller\n",
    "numbers are 1, 0 and 3. But among them 3\n",
    "is closest. Similary for 5 it is 4.\n",
    "\n",
    "</aside>"
   ]
  },
  {
   "cell_type": "code",
   "execution_count": 5,
   "id": "b402e6fe",
   "metadata": {},
   "outputs": [],
   "source": [
    "def nearestSmallerElement(arr):\n",
    "    n = len(arr)\n",
    "    result = [-1] * n\n",
    "    stack = []\n",
    "\n",
    "    for i in range(n):\n",
    "        while stack and arr[i] <= arr[stack[-1]]:\n",
    "            stack.pop()\n",
    "\n",
    "        if stack:\n",
    "            result[i] = arr[stack[-1]]\n",
    "\n",
    "        stack.append(i)\n",
    "\n",
    "    return result\n"
   ]
  },
  {
   "cell_type": "code",
   "execution_count": 6,
   "id": "fef388ee",
   "metadata": {},
   "outputs": [
    {
     "name": "stdout",
     "output_type": "stream",
     "text": [
      "[-1, 1, 1]\n",
      "[-1, 1, -1, 0, 3, 4]\n"
     ]
    }
   ],
   "source": [
    "arr1 = [1, 6, 2]\n",
    "print(nearestSmallerElement(arr1))  # Output: [-1, 1, 1]\n",
    "\n",
    "arr2 = [1, 5, 0, 3, 4, 5]\n",
    "print(nearestSmallerElement(arr2))  # Output: [-1, 1, -1, 0, 3, 4]\n"
   ]
  },
  {
   "cell_type": "markdown",
   "id": "a9d613bf",
   "metadata": {},
   "source": [
    "<aside>\n",
    "💡 **Question 3**\n",
    "\n",
    "Implement a Stack using two queues **q1** and **q2**.\n",
    "\n",
    "**Example 1:**\n",
    "\n",
    "```\n",
    "Input:\n",
    "push(2)\n",
    "push(3)\n",
    "pop()\n",
    "push(4)\n",
    "pop()\n",
    "Output:3 4\n",
    "Explanation:\n",
    "push(2) the stack will be {2}\n",
    "push(3) the stack will be {2 3}\n",
    "pop()   poped element will be 3 the\n",
    "        stack will be {2}\n",
    "push(4) the stack will be {2 4}\n",
    "pop()   poped element will be 4\n",
    "\n",
    "```\n",
    "\n",
    "**Example 2:**\n",
    "    \n",
    "    Input:\n",
    "push(2)\n",
    "pop()\n",
    "pop()\n",
    "push(3)\n",
    "Output:2 -1\n",
    "\n",
    "</aside>"
   ]
  },
  {
   "cell_type": "code",
   "execution_count": 7,
   "id": "fb1aa562",
   "metadata": {},
   "outputs": [],
   "source": [
    "from queue import Queue\n",
    "\n",
    "class Stack:\n",
    "    def __init__(self):\n",
    "        self.q1 = Queue()\n",
    "        self.q2 = Queue()\n",
    "\n",
    "    def push(self, x):\n",
    "        self.q2.put(x)\n",
    "        while not self.q1.empty():\n",
    "            self.q2.put(self.q1.get())\n",
    "\n",
    "        self.q1, self.q2 = self.q2, self.q1\n",
    "\n",
    "    def pop(self):\n",
    "        if not self.q1.empty():\n",
    "            return self.q1.get()\n",
    "        return -1\n",
    "\n",
    "    def top(self):\n",
    "        if not self.q1.empty():\n",
    "            return self.q1.queue[0]\n",
    "        return -1\n",
    "\n",
    "    def empty(self):\n",
    "        return self.q1.empty()\n"
   ]
  },
  {
   "cell_type": "code",
   "execution_count": 8,
   "id": "962981b5",
   "metadata": {},
   "outputs": [
    {
     "name": "stdout",
     "output_type": "stream",
     "text": [
      "3\n",
      "4\n"
     ]
    }
   ],
   "source": [
    "stack = Stack()\n",
    "\n",
    "stack.push(2)\n",
    "stack.push(3)\n",
    "print(stack.pop())  # Output: 3\n",
    "\n",
    "stack.push(4)\n",
    "print(stack.pop())  # Output: 4\n"
   ]
  },
  {
   "cell_type": "code",
   "execution_count": 9,
   "id": "fa9160a8",
   "metadata": {},
   "outputs": [
    {
     "name": "stdout",
     "output_type": "stream",
     "text": [
      "2\n",
      "-1\n",
      "3\n"
     ]
    }
   ],
   "source": [
    "stack = Stack()\n",
    "\n",
    "stack.push(2)\n",
    "print(stack.pop())  # Output: 2\n",
    "\n",
    "print(stack.pop())  # Output: -1\n",
    "\n",
    "stack.push(3)\n",
    "print(stack.top())  # Output: 3\n"
   ]
  },
  {
   "cell_type": "markdown",
   "id": "431f2dc7",
   "metadata": {},
   "source": [
    "<aside>\n",
    "💡 **Question 4**\n",
    "\n",
    "You are given a stack **St**. You have to reverse the stack using recursion.\n",
    "\n",
    "**Example 1:**\n",
    "\n",
    "```\n",
    "Input:St = {3,2,1,7,6}\n",
    "Output:{6,7,1,2,3}\n",
    "```\n",
    "\n",
    "**Example 2:**\n",
    "    \n",
    "    Input:St = {4,3,9,6}\n",
    "Output:{6,9,3,4}\n",
    "\n",
    "</aside>"
   ]
  },
  {
   "cell_type": "code",
   "execution_count": 13,
   "id": "2b66dcde",
   "metadata": {},
   "outputs": [],
   "source": [
    "def reverseStack(St):\n",
    "    if St.empty() or St.qsize() == 1:\n",
    "        return\n",
    "\n",
    "    topElement = St.get()\n",
    "\n",
    "    reverseStack(St)\n",
    "\n",
    "    insertAtBottom(St, topElement)\n",
    "\n",
    "def insertAtBottom(St, x):\n",
    "    if St.empty():\n",
    "        St.put(x)\n",
    "    else:\n",
    "        topElement = St.get()\n",
    "        insertAtBottom(St, x)\n",
    "        St.put(topElement)\n"
   ]
  },
  {
   "cell_type": "code",
   "execution_count": 14,
   "id": "d7d52c77",
   "metadata": {},
   "outputs": [
    {
     "name": "stdout",
     "output_type": "stream",
     "text": [
      "3 2 1 7 6 \n"
     ]
    }
   ],
   "source": [
    "from queue import LifoQueue\n",
    "\n",
    "stack1 = LifoQueue()\n",
    "stack1.put(3)\n",
    "stack1.put(2)\n",
    "stack1.put(1)\n",
    "stack1.put(7)\n",
    "stack1.put(6)\n",
    "\n",
    "reverseStack(stack1)\n",
    "\n",
    "while not stack1.empty():\n",
    "    print(stack1.get(), end=\" \")  # Output: 6 7 1 2 3\n",
    "print()\n"
   ]
  },
  {
   "cell_type": "code",
   "execution_count": 15,
   "id": "aff6863c",
   "metadata": {},
   "outputs": [
    {
     "name": "stdout",
     "output_type": "stream",
     "text": [
      "4 3 9 6 \n"
     ]
    }
   ],
   "source": [
    "stack2 = LifoQueue()\n",
    "stack2.put(4)\n",
    "stack2.put(3)\n",
    "stack2.put(9)\n",
    "stack2.put(6)\n",
    "\n",
    "reverseStack(stack2)\n",
    "\n",
    "while not stack2.empty():\n",
    "    print(stack2.get(), end=\" \")  # Output: 6 9 3 4\n",
    "print()\n"
   ]
  },
  {
   "cell_type": "markdown",
   "id": "60a10047",
   "metadata": {},
   "source": [
    "<aside>\n",
    "💡 **Question 5**\n",
    "\n",
    "You are given a string **S**, the task is to reverse the string using stack.\n",
    "\n",
    "**Example 1:**\n",
    "    \n",
    "    Input: S=\"GeeksforGeeks\"\n",
    "Output: skeeGrofskeeG\n",
    "\n",
    "</aside>"
   ]
  },
  {
   "cell_type": "code",
   "execution_count": 16,
   "id": "85956408",
   "metadata": {},
   "outputs": [],
   "source": [
    "def reverseString(S):\n",
    "    stack = []\n",
    "\n",
    "    # Push each character onto the stack\n",
    "    for char in S:\n",
    "        stack.append(char)\n",
    "\n",
    "    reversed_string = \"\"\n",
    "\n",
    "    # Pop each character from the stack and append it to reversed_string\n",
    "    while stack:\n",
    "        reversed_string += stack.pop()\n",
    "\n",
    "    return reversed_string\n"
   ]
  },
  {
   "cell_type": "code",
   "execution_count": 17,
   "id": "ffef0c83",
   "metadata": {},
   "outputs": [
    {
     "name": "stdout",
     "output_type": "stream",
     "text": [
      "skeeGrofskeeG\n"
     ]
    }
   ],
   "source": [
    "S = \"GeeksforGeeks\"\n",
    "print(reverseString(S))  # Output: skeeGrofskeeG\n"
   ]
  },
  {
   "cell_type": "markdown",
   "id": "3bda956e",
   "metadata": {},
   "source": [
    "<aside>\n",
    "💡 **Question 6**\n",
    "\n",
    "Given string **S** representing a postfix expression, the task is to evaluate the expression and find the final value. Operators will only include the basic arithmetic operators like ***, /, + and -**.\n",
    "\n",
    "**Example 1:**\n",
    "\n",
    "```\n",
    "Input: S = \"231*+9-\"\n",
    "Output: -4\n",
    "Explanation:\n",
    "After solving the given expression,\n",
    "we have -4 as result.\n",
    "\n",
    "```\n",
    "\n",
    "**Example 2:**\n",
    "    \n",
    "    Input: S = \"123+*8-\"\n",
    "Output: -3\n",
    "Explanation:\n",
    "After solving the given postfix\n",
    "expression, we have -3 as result.\n",
    "\n",
    "</aside>"
   ]
  },
  {
   "cell_type": "code",
   "execution_count": 18,
   "id": "c236a455",
   "metadata": {},
   "outputs": [],
   "source": [
    "def evaluatePostfix(S):\n",
    "    stack = []\n",
    "\n",
    "    for char in S:\n",
    "        if char.isdigit():\n",
    "            stack.append(int(char))\n",
    "        else:\n",
    "            operand2 = stack.pop()\n",
    "            operand1 = stack.pop()\n",
    "\n",
    "            if char == '+':\n",
    "                result = operand1 + operand2\n",
    "            elif char == '-':\n",
    "                result = operand1 - operand2\n",
    "            elif char == '*':\n",
    "                result = operand1 * operand2\n",
    "            elif char == '/':\n",
    "                result = operand1 / operand2\n",
    "\n",
    "            stack.append(result)\n",
    "\n",
    "    return stack.pop()\n"
   ]
  },
  {
   "cell_type": "code",
   "execution_count": 19,
   "id": "2d112ebe",
   "metadata": {},
   "outputs": [
    {
     "name": "stdout",
     "output_type": "stream",
     "text": [
      "-4\n",
      "-3\n"
     ]
    }
   ],
   "source": [
    "S1 = \"231*+9-\"\n",
    "print(evaluatePostfix(S1))  # Output: -4\n",
    "\n",
    "S2 = \"123+*8-\"\n",
    "print(evaluatePostfix(S2))  # Output: -3\n"
   ]
  }
 ],
 "metadata": {
  "kernelspec": {
   "display_name": "Python 3 (ipykernel)",
   "language": "python",
   "name": "python3"
  },
  "language_info": {
   "codemirror_mode": {
    "name": "ipython",
    "version": 3
   },
   "file_extension": ".py",
   "mimetype": "text/x-python",
   "name": "python",
   "nbconvert_exporter": "python",
   "pygments_lexer": "ipython3",
   "version": "3.10.4"
  }
 },
 "nbformat": 4,
 "nbformat_minor": 5
}
