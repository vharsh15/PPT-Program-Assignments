{
 "cells": [
  {
   "cell_type": "markdown",
   "id": "490bb9cd",
   "metadata": {},
   "source": [
    "<aside>\n",
    "\n",
    "💡 **Question 1**\n",
    "\n",
    "Given an integer `n`, return *`true` if it is a power of two. Otherwise, return `false`*.\n",
    "\n",
    "An integer `n` is a power of two, if there exists an integer `x` such that `n == 2x`.\n",
    "\n",
    "**Example 1:**\n",
    "Input: n = 1 \n",
    "\n",
    "Output: true\n",
    "\n",
    "**Example 2:**\n",
    "Input: n = 16 \n",
    "\n",
    "Output: true\n",
    "\n",
    "**Example 3:**\n",
    "Input: n = 3 \n",
    "\n",
    "Output: false\n",
    "\n",
    "</aside>"
   ]
  },
  {
   "cell_type": "code",
   "execution_count": 2,
   "id": "4256b6be",
   "metadata": {},
   "outputs": [
    {
     "name": "stdout",
     "output_type": "stream",
     "text": [
      "True\n",
      "True\n",
      "False\n"
     ]
    }
   ],
   "source": [
    "def isPowerOfTwo(n):\n",
    "    if n <= 0:\n",
    "        return False\n",
    "    while n > 1:\n",
    "        if n % 2 != 0:\n",
    "            return False\n",
    "        n = n // 2\n",
    "    return True\n",
    "\n",
    "print(isPowerOfTwo(1))  # Output: True\n",
    "print(isPowerOfTwo(16))  # Output: True\n",
    "print(isPowerOfTwo(3))  # Output: False\n"
   ]
  },
  {
   "cell_type": "markdown",
   "id": "38e9e8d6",
   "metadata": {},
   "source": [
    "<aside>\n",
    "    \n",
    "💡 **Question 2**\n",
    "\n",
    "Given a number n, find the sum of the first natural numbers.\n",
    "\n",
    "**Example 1:**\n",
    "\n",
    "Input: n = 3 \n",
    "\n",
    "Output: 6\n",
    "\n",
    "**Example 2:**\n",
    "\n",
    "Input  : 5 \n",
    "\n",
    "Output : 15\n",
    "\n",
    "</aside>"
   ]
  },
  {
   "cell_type": "code",
   "execution_count": 3,
   "id": "8a849fd3",
   "metadata": {},
   "outputs": [
    {
     "name": "stdout",
     "output_type": "stream",
     "text": [
      "6\n",
      "15\n"
     ]
    }
   ],
   "source": [
    "def sumOfFirstNNumbers(n):\n",
    "    return (n * (n + 1)) // 2\n",
    "print(sumOfFirstNNumbers(3))  # Output: 6\n",
    "print(sumOfFirstNNumbers(5))  # Output: 15\n"
   ]
  },
  {
   "cell_type": "markdown",
   "id": "be5d8ee4",
   "metadata": {},
   "source": [
    "<aside>\n",
    "\n",
    "💡 **Question 3**\n",
    "\n",
    "Given a positive integer, N. Find the factorial of N. \n",
    "\n",
    "**Example 1:**\n",
    "\n",
    "Input: N = 5 \n",
    "\n",
    "Output: 120\n",
    "\n",
    "**Example 2:**\n",
    "\n",
    "Input: N = 4\n",
    "\n",
    "Output: 24\n",
    "\n",
    "</aside>"
   ]
  },
  {
   "cell_type": "code",
   "execution_count": 4,
   "id": "5311c079",
   "metadata": {},
   "outputs": [
    {
     "name": "stdout",
     "output_type": "stream",
     "text": [
      "120\n",
      "24\n"
     ]
    }
   ],
   "source": [
    "def factorial(N):\n",
    "    result = 1\n",
    "    for i in range(1, N + 1):\n",
    "        result *= i\n",
    "    return result\n",
    "print(factorial(5))  # Output: 120\n",
    "print(factorial(4))  # Output: 24\n"
   ]
  },
  {
   "cell_type": "markdown",
   "id": "66689a0e",
   "metadata": {},
   "source": [
    "<aside>\n",
    "\n",
    "💡 **Question 4**\n",
    "\n",
    "Given a number N and a power P, the task is to find the exponent of this number raised to the given power, i.e. N^P.\n",
    "\n",
    "**Example 1 :** \n",
    "\n",
    "Input: N = 5, P = 2\n",
    "\n",
    "Output: 25\n",
    "\n",
    "**Example 2 :**\n",
    "Input: N = 2, P = 5\n",
    "\n",
    "Output: 32\n",
    "\n",
    "</aside>"
   ]
  },
  {
   "cell_type": "code",
   "execution_count": 5,
   "id": "2eb750ac",
   "metadata": {},
   "outputs": [
    {
     "name": "stdout",
     "output_type": "stream",
     "text": [
      "25\n",
      "32\n"
     ]
    }
   ],
   "source": [
    "def exponent(N, P):\n",
    "    return N ** P\n",
    "print(exponent(5, 2))  # Output: 25\n",
    "print(exponent(2, 5))  # Output: 32\n"
   ]
  },
  {
   "cell_type": "markdown",
   "id": "a96a73b1",
   "metadata": {},
   "source": [
    "<aside>\n",
    "\n",
    "💡 **Question 5**\n",
    "\n",
    "Given an array of integers **arr**, the task is to find maximum element of that array using recursion.\n",
    "\n",
    "**Example 1:**\n",
    "\n",
    "Input: arr = {1, 4, 3, -5, -4, 8, 6};\n",
    "Output: 8\n",
    "\n",
    "**Example 2:**\n",
    "\n",
    "Input: arr = {1, 4, 45, 6, 10, -8};\n",
    "Output: 45\n",
    "\n",
    "</aside>"
   ]
  },
  {
   "cell_type": "code",
   "execution_count": 6,
   "id": "afe8057b",
   "metadata": {},
   "outputs": [
    {
     "name": "stdout",
     "output_type": "stream",
     "text": [
      "8\n",
      "45\n"
     ]
    }
   ],
   "source": [
    "def findMax(arr, n):\n",
    "    # Base case: If there is only one element, it is the maximum\n",
    "    if n == 1:\n",
    "        return arr[0]\n",
    "    \n",
    "    # Recursive case: Compare the current element with the maximum of the rest of the array\n",
    "    return max(arr[n-1], findMax(arr, n-1))\n",
    "\n",
    "arr1 = [1, 4, 3, -5, -4, 8, 6]\n",
    "print(findMax(arr1, len(arr1)))  # Output: 8\n",
    "\n",
    "arr2 = [1, 4, 45, 6, 10, -8]\n",
    "print(findMax(arr2, len(arr2)))  # Output: 45\n"
   ]
  },
  {
   "cell_type": "markdown",
   "id": "071a4513",
   "metadata": {},
   "source": [
    "<aside>\n",
    "\n",
    "💡 **Question 6**\n",
    "\n",
    "Given first term (a), common difference (d) and a integer N of the Arithmetic Progression series, the task is to find Nth term of the series.\n",
    "\n",
    "**Example 1:**\n",
    "\n",
    "Input : a = 2 d = 1 N = 5\n",
    "Output : 6\n",
    "The 5th term of the series is : 6\n",
    "\n",
    "**Example 2:**\n",
    "\n",
    "Input : a = 5 d = 2 N = 10\n",
    "Output : 23\n",
    "The 10th term of the series is : 23\n",
    "\n",
    "</aside>"
   ]
  },
  {
   "cell_type": "code",
   "execution_count": 8,
   "id": "58d99df0",
   "metadata": {},
   "outputs": [
    {
     "name": "stdout",
     "output_type": "stream",
     "text": [
      "6\n",
      "23\n"
     ]
    }
   ],
   "source": [
    "def findNthTerm(a, d, n):\n",
    "    nthTerm = a + (n - 1) * d\n",
    "    return nthTerm\n",
    "print(findNthTerm(2, 1, 5))  # Output: 6\n",
    "print(findNthTerm(5, 2, 10))  # Output: 23\n"
   ]
  },
  {
   "cell_type": "markdown",
   "id": "9b977b1c",
   "metadata": {},
   "source": [
    "<aside>\n",
    "\n",
    "💡 **Question 7**\n",
    "\n",
    "Given a string S, the task is to write a program to print all permutations of a given string.\n",
    "\n",
    "**Example 1:**\n",
    "\n",
    "***Input:***\n",
    "\n",
    "*S = “ABC”*\n",
    "\n",
    "***Output:***\n",
    "\n",
    "*“ABC”, “ACB”, “BAC”, “BCA”, “CBA”, “CAB”*\n",
    "\n",
    "**Example 2:**\n",
    "\n",
    "***Input:***\n",
    "\n",
    "*S = “XY”*\n",
    "\n",
    "***Output:***\n",
    "\n",
    "*“XY”, “YX”*\n",
    "\n",
    "</aside>"
   ]
  },
  {
   "cell_type": "code",
   "execution_count": 9,
   "id": "8611bcb6",
   "metadata": {},
   "outputs": [
    {
     "name": "stdout",
     "output_type": "stream",
     "text": [
      "ABC\n",
      "ACB\n",
      "BAC\n",
      "BCA\n",
      "CBA\n",
      "CAB\n",
      "XY\n",
      "YX\n"
     ]
    }
   ],
   "source": [
    "def permute(s, left, right):\n",
    "    if left == right:\n",
    "        print(\"\".join(s))\n",
    "    else:\n",
    "        for i in range(left, right + 1):\n",
    "            s[left], s[i] = s[i], s[left]  # Swap the characters\n",
    "            permute(s, left + 1, right)  # Recursively generate permutations\n",
    "            s[left], s[i] = s[i], s[left]  # Restore the original order\n",
    "\n",
    "def generatePermutations(S):\n",
    "    n = len(S)\n",
    "    s = list(S)  # Convert the string to a list of characters\n",
    "    permute(s, 0, n - 1)\n",
    "\n",
    "generatePermutations(\"ABC\")  # Output: ABC, ACB, BAC, BCA, CBA, CAB\n",
    "\n",
    "generatePermutations(\"XY\")  # Output: XY, YX\n"
   ]
  },
  {
   "cell_type": "markdown",
   "id": "431489ca",
   "metadata": {},
   "source": [
    "<aside>\n",
    "\n",
    "💡 **Question 8**\n",
    "\n",
    "Given an array, find a product of all array elements.\n",
    "\n",
    "**Example 1:**\n",
    "\n",
    "Input  : arr[] = {1, 2, 3, 4, 5}\n",
    "Output : 120\n",
    "**Example 2:**\n",
    "\n",
    "Input  : arr[] = {1, 6, 3}\n",
    "Output : 18\n",
    "\n",
    "</aside>"
   ]
  },
  {
   "cell_type": "code",
   "execution_count": 10,
   "id": "b74d004e",
   "metadata": {},
   "outputs": [
    {
     "name": "stdout",
     "output_type": "stream",
     "text": [
      "120\n",
      "18\n"
     ]
    }
   ],
   "source": [
    "def productOfArrayElements(arr):\n",
    "    product = 1\n",
    "    for num in arr:\n",
    "        product *= num\n",
    "    return product\n",
    "arr1 = [1, 2, 3, 4, 5]\n",
    "print(productOfArrayElements(arr1))  # Output: 120\n",
    "\n",
    "arr2 = [1, 6, 3]\n",
    "print(productOfArrayElements(arr2))  # Output: 18\n"
   ]
  },
  {
   "cell_type": "code",
   "execution_count": null,
   "id": "8c846023",
   "metadata": {},
   "outputs": [],
   "source": []
  }
 ],
 "metadata": {
  "kernelspec": {
   "display_name": "Python 3 (ipykernel)",
   "language": "python",
   "name": "python3"
  },
  "language_info": {
   "codemirror_mode": {
    "name": "ipython",
    "version": 3
   },
   "file_extension": ".py",
   "mimetype": "text/x-python",
   "name": "python",
   "nbconvert_exporter": "python",
   "pygments_lexer": "ipython3",
   "version": "3.10.7"
  }
 },
 "nbformat": 4,
 "nbformat_minor": 5
}
