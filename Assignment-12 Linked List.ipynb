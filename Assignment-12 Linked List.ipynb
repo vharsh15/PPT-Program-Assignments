{
 "cells": [
  {
   "cell_type": "markdown",
   "id": "d73f3cc4",
   "metadata": {},
   "source": [
    "    \t\t\t\t\t\t\t\t\t\t\tAssignment-12 Linked List\n",
    "                                                Name: Aman Yadav\n",
    "                                                email: amanyadav18072000@gmail.com"
   ]
  },
  {
   "cell_type": "markdown",
   "id": "b739a1d5",
   "metadata": {},
   "source": [
    "<aside>\n",
    "💡 **Question 1**\n",
    "\n",
    "Given a singly linked list, delete **middle** of the linked list. For example, if given linked list is 1->2->**3**->4->5 then linked list should be modified to 1->2->4->5.If there are **even** nodes, then there would be **two middle** nodes, we need to delete the second middle element. For example, if given linked list is 1->2->3->4->5->6 then it should be modified to 1->2->3->5->6.If the input linked list is NULL or has 1 node, then it should return NULL\n",
    "\n",
    "**Example 1:**\n",
    "\n",
    "```\n",
    "Input:\n",
    "LinkedList: 1->2->3->4->5\n",
    "Output:1 2 4 5\n",
    "\n",
    "```\n",
    "\n",
    "**Example 2:**\n",
    "\n",
    "</aside>"
   ]
  },
  {
   "cell_type": "code",
   "execution_count": 1,
   "id": "05525d7c",
   "metadata": {},
   "outputs": [],
   "source": [
    "def isPowerOfTwo(n):\n",
    "    if n <= 0:\n",
    "        return False\n",
    "    \n",
    "    while n % 2 == 0:\n",
    "        n //= 2\n",
    "    \n",
    "    return n == 1\n"
   ]
  },
  {
   "cell_type": "code",
   "execution_count": 2,
   "id": "de87a784",
   "metadata": {},
   "outputs": [
    {
     "name": "stdout",
     "output_type": "stream",
     "text": [
      "True\n",
      "True\n",
      "False\n"
     ]
    }
   ],
   "source": [
    "print(isPowerOfTwo(1))    # Output: True\n",
    "print(isPowerOfTwo(16))   # Output: True\n",
    "print(isPowerOfTwo(3))    # Output: False\n"
   ]
  },
  {
   "cell_type": "markdown",
   "id": "1c9de70e",
   "metadata": {},
   "source": [
    "<aside>\n",
    "💡 **Question 2**\n",
    "\n",
    "Given a number n, find the sum of the first natural numbers.\n",
    "\n",
    "**Example 1:**\n",
    "\n",
    "Input: n = 3 \n",
    "\n",
    "Output: 6\n",
    "\n",
    "**Example 2:**\n",
    "\n",
    "Input  : 5 \n",
    "\n",
    "Output : 15\n",
    "\n",
    "</aside>"
   ]
  },
  {
   "cell_type": "code",
   "execution_count": 3,
   "id": "4fa28503",
   "metadata": {},
   "outputs": [],
   "source": [
    "def sumOfFirstN(n):\n",
    "    return (n * (n + 1)) // 2\n"
   ]
  },
  {
   "cell_type": "code",
   "execution_count": 4,
   "id": "981db167",
   "metadata": {},
   "outputs": [
    {
     "name": "stdout",
     "output_type": "stream",
     "text": [
      "6\n",
      "15\n"
     ]
    }
   ],
   "source": [
    "print(sumOfFirstN(3))    # Output: 6\n",
    "print(sumOfFirstN(5))    # Output: 15\n"
   ]
  },
  {
   "cell_type": "markdown",
   "id": "d95b77d1",
   "metadata": {},
   "source": [
    "<aside>\n",
    "💡 **Question 3**\n",
    "\n",
    "****Given a positive integer, N. Find the factorial of N. \n",
    "\n",
    "**Example 1:**\n",
    "\n",
    "Input: N = 5 \n",
    "\n",
    "Output: 120\n",
    "\n",
    "**Example 2:**\n",
    "\n",
    "Input: N = 4\n",
    "\n",
    "Output: 24\n",
    "\n",
    "</aside>"
   ]
  },
  {
   "cell_type": "code",
   "execution_count": 5,
   "id": "974f2f49",
   "metadata": {},
   "outputs": [],
   "source": [
    "def factorial_recursive(N):\n",
    "    if N == 0 or N == 1:\n",
    "        return 1\n",
    "    else:\n",
    "        return N * factorial_recursive(N - 1)\n"
   ]
  },
  {
   "cell_type": "code",
   "execution_count": 6,
   "id": "9edbf5fe",
   "metadata": {},
   "outputs": [
    {
     "name": "stdout",
     "output_type": "stream",
     "text": [
      "120\n",
      "24\n"
     ]
    }
   ],
   "source": [
    "print(factorial_recursive(5))    # Output: 120\n",
    "print(factorial_recursive(4))    # Output: 24\n"
   ]
  },
  {
   "cell_type": "markdown",
   "id": "edeefd7f",
   "metadata": {},
   "source": [
    "<aside>\n",
    "💡 **Question 4**\n",
    "\n",
    "Given a number N and a power P, the task is to find the exponent of this number raised to the given power, i.e. N^P.\n",
    "\n",
    "**Example 1 :** \n",
    "\n",
    "Input: N = 5, P = 2\n",
    "\n",
    "Output: 25\n",
    "\n",
    "**Example 2 :**\n",
    "Input: N = 2, P = 5\n",
    "\n",
    "Output: 32\n",
    "\n",
    "</aside>"
   ]
  },
  {
   "cell_type": "code",
   "execution_count": 7,
   "id": "5d750e9b",
   "metadata": {},
   "outputs": [],
   "source": [
    "def power_recursive(N, P):\n",
    "    if P == 0:\n",
    "        return 1\n",
    "    else:\n",
    "        return N * power_recursive(N, P - 1)\n"
   ]
  },
  {
   "cell_type": "code",
   "execution_count": 8,
   "id": "a83d9d2a",
   "metadata": {},
   "outputs": [
    {
     "name": "stdout",
     "output_type": "stream",
     "text": [
      "25\n",
      "32\n"
     ]
    }
   ],
   "source": [
    "print(power_recursive(5, 2))    # Output: 25\n",
    "print(power_recursive(2, 5))    # Output: 32\n"
   ]
  },
  {
   "cell_type": "markdown",
   "id": "ef7ef022",
   "metadata": {},
   "source": [
    "<aside>\n",
    "💡 **Question 5**\n",
    "\n",
    "Given an array of integers **arr**, the task is to find maximum element of that array using recursion.\n",
    "\n",
    "**Example 1:**\n",
    "\n",
    "Input: arr = {1, 4, 3, -5, -4, 8, 6};\n",
    "Output: 8\n",
    "\n",
    "**Example 2:**\n",
    "\n",
    "Input: arr = {1, 4, 45, 6, 10, -8};\n",
    "Output: 45\n",
    "\n",
    "</aside>"
   ]
  },
  {
   "cell_type": "code",
   "execution_count": 9,
   "id": "83cce2af",
   "metadata": {},
   "outputs": [],
   "source": [
    "def find_max_recursive(arr, index):\n",
    "    # Base case: If index reaches the end of the array\n",
    "    if index == len(arr) - 1:\n",
    "        return arr[index]\n",
    "    \n",
    "    # Recursive case: Compare current element with maximum of remaining elements\n",
    "    current = arr[index]\n",
    "    remaining_max = find_max_recursive(arr, index + 1)\n",
    "    \n",
    "    if current > remaining_max:\n",
    "        return current\n",
    "    else:\n",
    "        return remaining_max\n",
    "\n",
    "def find_max(arr):\n",
    "    return find_max_recursive(arr, 0)\n"
   ]
  },
  {
   "cell_type": "code",
   "execution_count": 10,
   "id": "87a94d03",
   "metadata": {},
   "outputs": [
    {
     "name": "stdout",
     "output_type": "stream",
     "text": [
      "8\n",
      "45\n"
     ]
    }
   ],
   "source": [
    "arr1 = [1, 4, 3, -5, -4, 8, 6]\n",
    "print(find_max(arr1))    # Output: 8\n",
    "\n",
    "arr2 = [1, 4, 45, 6, 10, -8]\n",
    "print(find_max(arr2))    # Output: 45\n"
   ]
  },
  {
   "cell_type": "markdown",
   "id": "cacd3165",
   "metadata": {},
   "source": [
    "<aside>\n",
    "💡 **Question 6**\n",
    "\n",
    "Given first term (a), common difference (d) and a integer N of the Arithmetic Progression series, the task is to find Nth term of the series.\n",
    "\n",
    "**Example 1:**\n",
    "\n",
    "Input : a = 2 d = 1 N = 5\n",
    "Output : 6\n",
    "The 5th term of the series is : 6\n",
    "\n",
    "**Example 2:**\n",
    "\n",
    "Input : a = 5 d = 2 N = 10\n",
    "Output : 23\n",
    "The 10th term of the series is : 23\n",
    "\n",
    "</aside>"
   ]
  },
  {
   "cell_type": "code",
   "execution_count": 11,
   "id": "ae5cefa4",
   "metadata": {},
   "outputs": [],
   "source": [
    "def nth_term_of_ap_recursive(a, d, N):\n",
    "    if N == 1:\n",
    "        return a\n",
    "    else:\n",
    "        return nth_term_of_ap_recursive(a, d, N - 1) + d\n",
    "\n",
    "def nth_term_of_ap(a, d, N):\n",
    "    return nth_term_of_ap_recursive(a, d, N)\n"
   ]
  },
  {
   "cell_type": "code",
   "execution_count": 12,
   "id": "ba803ea2",
   "metadata": {},
   "outputs": [
    {
     "name": "stdout",
     "output_type": "stream",
     "text": [
      "6\n",
      "23\n"
     ]
    }
   ],
   "source": [
    "print(nth_term_of_ap(2, 1, 5))    # Output: 6\n",
    "print(nth_term_of_ap(5, 2, 10))   # Output: 23\n"
   ]
  },
  {
   "cell_type": "markdown",
   "id": "65a239f1",
   "metadata": {},
   "source": [
    "<aside>\n",
    "💡 **Question 7**\n",
    "\n",
    "Given a string S, the task is to write a program to print all permutations of a given string.\n",
    "\n",
    "**Example 1:**\n",
    "\n",
    "***Input:***\n",
    "\n",
    "*S = “ABC”*\n",
    "\n",
    "***Output:***\n",
    "\n",
    "*“ABC”, “ACB”, “BAC”, “BCA”, “CBA”, “CAB”*\n",
    "\n",
    "**Example 2:**\n",
    "\n",
    "***Input:***\n",
    "\n",
    "*S = “XY”*\n",
    "\n",
    "***Output:***\n",
    "\n",
    "*“XY”, “YX”*\n",
    "\n",
    "</aside>"
   ]
  },
  {
   "cell_type": "code",
   "execution_count": 13,
   "id": "ab6a2c5d",
   "metadata": {},
   "outputs": [],
   "source": [
    "def permute(s, l, r, res):\n",
    "    if l == r:\n",
    "        res.append(''.join(s))\n",
    "    else:\n",
    "        for i in range(l, r + 1):\n",
    "            s[l], s[i] = s[i], s[l]\n",
    "            permute(s, l + 1, r, res)\n",
    "            s[l], s[i] = s[i], s[l]  # backtrack\n",
    "\n",
    "def get_permutations(S):\n",
    "    result = []\n",
    "    s = list(S)\n",
    "    n = len(s)\n",
    "    permute(s, 0, n - 1, result)\n",
    "    return result\n"
   ]
  },
  {
   "cell_type": "code",
   "execution_count": 14,
   "id": "1e3eb3c7",
   "metadata": {},
   "outputs": [
    {
     "name": "stdout",
     "output_type": "stream",
     "text": [
      "['ABC', 'ACB', 'BAC', 'BCA', 'CBA', 'CAB']\n",
      "['XY', 'YX']\n"
     ]
    }
   ],
   "source": [
    "S1 = \"ABC\"\n",
    "print(get_permutations(S1))    # Output: ['ABC', 'ACB', 'BAC', 'BCA', 'CBA', 'CAB']\n",
    "\n",
    "S2 = \"XY\"\n",
    "print(get_permutations(S2))    # Output: ['XY', 'YX']\n"
   ]
  },
  {
   "cell_type": "markdown",
   "id": "3c9c3d8d",
   "metadata": {},
   "source": [
    "<aside>\n",
    "💡 **Question 8**\n",
    "\n",
    "Given an array, find a product of all array elements.\n",
    "\n",
    "**Example 1:**\n",
    "\n",
    "Input  : arr[] = {1, 2, 3, 4, 5}\n",
    "Output : 120\n",
    "**Example 2:**\n",
    "\n",
    "Input  : arr[] = {1, 6, 3}\n",
    "Output : 18\n",
    "\n",
    "</aside>"
   ]
  },
  {
   "cell_type": "code",
   "execution_count": 15,
   "id": "e2594e39",
   "metadata": {},
   "outputs": [],
   "source": [
    "def product_of_array_recursive(arr, n):\n",
    "    if n == 0:\n",
    "        return arr[0]\n",
    "    else:\n",
    "        return arr[n] * product_of_array_recursive(arr, n - 1)\n",
    "\n",
    "def product_of_array(arr):\n",
    "    n = len(arr)\n",
    "    return product_of_array_recursive(arr, n - 1)\n"
   ]
  },
  {
   "cell_type": "code",
   "execution_count": 16,
   "id": "7a64cdc9",
   "metadata": {},
   "outputs": [
    {
     "name": "stdout",
     "output_type": "stream",
     "text": [
      "120\n",
      "18\n"
     ]
    }
   ],
   "source": [
    "arr1 = [1, 2, 3, 4, 5]\n",
    "print(product_of_array(arr1))    # Output: 120\n",
    "\n",
    "arr2 = [1, 6, 3]\n",
    "print(product_of_array(arr2))    # Output: 18\n"
   ]
  }
 ],
 "metadata": {
  "kernelspec": {
   "display_name": "Python 3 (ipykernel)",
   "language": "python",
   "name": "python3"
  },
  "language_info": {
   "codemirror_mode": {
    "name": "ipython",
    "version": 3
   },
   "file_extension": ".py",
   "mimetype": "text/x-python",
   "name": "python",
   "nbconvert_exporter": "python",
   "pygments_lexer": "ipython3",
   "version": "3.10.4"
  }
 },
 "nbformat": 4,
 "nbformat_minor": 5
}
