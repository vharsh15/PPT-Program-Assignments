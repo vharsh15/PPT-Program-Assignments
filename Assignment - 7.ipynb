{
 "cells": [
  {
   "cell_type": "markdown",
   "id": "9f25c996",
   "metadata": {},
   "source": [
    "\n",
    "💡 **Question 1**\n",
    "\n",
    "Given two strings s and t, *determine if they are isomorphic*.\n",
    "\n",
    "Two strings s and t are isomorphic if the characters in s can be replaced to get t.\n",
    "\n",
    "All occurrences of a character must be replaced with another character while preserving the order of characters. No two characters may map to the same character, but a character may map to itself.\n",
    "\n",
    "**Example 1:**\n",
    "\n",
    "**Input:** s = \"egg\", t = \"add\"\n",
    "\n",
    "**Output:** true\n",
    "\n"
   ]
  },
  {
   "cell_type": "code",
   "execution_count": 1,
   "id": "857dae9a",
   "metadata": {},
   "outputs": [
    {
     "name": "stdout",
     "output_type": "stream",
     "text": [
      "True\n"
     ]
    }
   ],
   "source": [
    "def isIsomorphic(s, t):\n",
    "    if len(s) != len(t):\n",
    "        return False\n",
    "\n",
    "    s_to_t = {}\n",
    "    t_to_s = {}\n",
    "\n",
    "    for char_s, char_t in zip(s, t):\n",
    "        if char_s not in s_to_t and char_t not in t_to_s:\n",
    "            s_to_t[char_s] = char_t\n",
    "            t_to_s[char_t] = char_s\n",
    "        elif s_to_t.get(char_s) != char_t or t_to_s.get(char_t) != char_s:\n",
    "            return False\n",
    "\n",
    "    return True\n",
    "\n",
    "s = \"egg\"\n",
    "t = \"add\"\n",
    "print(isIsomorphic(s, t))\n"
   ]
  },
  {
   "cell_type": "markdown",
   "id": "2a370c30",
   "metadata": {},
   "source": [
    "<aside>\n",
    "    \n",
    "💡 **Question 2**\n",
    "\n",
    "Given a string num which represents an integer, return true *if* num *is a **strobogrammatic number***.\n",
    "\n",
    "A **strobogrammatic number** is a number that looks the same when rotated 180 degrees (looked at upside down).\n",
    "\n",
    "**Example 1:**\n",
    "\n",
    "**Input:** num = \"69\"\n",
    "\n",
    "**Output:**\n",
    "\n",
    "true\n",
    "\n",
    "</aside>"
   ]
  },
  {
   "cell_type": "code",
   "execution_count": 2,
   "id": "d5b88866",
   "metadata": {},
   "outputs": [
    {
     "name": "stdout",
     "output_type": "stream",
     "text": [
      "True\n"
     ]
    }
   ],
   "source": [
    "def isStrobogrammatic(num):\n",
    "    left, right = 0, len(num) - 1\n",
    "    strobogrammatic_pairs = {'0': '0', '1': '1', '6': '9', '8': '8', '9': '6'}\n",
    "\n",
    "    while left <= right:\n",
    "        if num[left] not in strobogrammatic_pairs or num[right] != strobogrammatic_pairs[num[left]]:\n",
    "            return False\n",
    "        left += 1\n",
    "        right -= 1\n",
    "\n",
    "    return True\n",
    "\n",
    "num = \"69\"\n",
    "print(isStrobogrammatic(num))\n"
   ]
  },
  {
   "cell_type": "markdown",
   "id": "94f60e07",
   "metadata": {},
   "source": [
    "<aside>\n",
    "\n",
    "💡 **Question 3**\n",
    "\n",
    "Given two non-negative integers, num1 and num2 represented as string, return *the sum of* num1 *and* num2 *as a string*.\n",
    "\n",
    "You must solve the problem without using any built-in library for handling large integers (such as BigInteger). You must also not convert the inputs to integers directly.\n",
    "\n",
    "**Example 1:**\n",
    "\n",
    "**Input:** num1 = \"11\", num2 = \"123\"\n",
    "\n",
    "**Output:**\n",
    "\n",
    "\"134\"\n",
    "\n",
    "</aside>"
   ]
  },
  {
   "cell_type": "code",
   "execution_count": 4,
   "id": "262321a6",
   "metadata": {},
   "outputs": [
    {
     "name": "stdout",
     "output_type": "stream",
     "text": [
      "134\n"
     ]
    }
   ],
   "source": [
    "def addStrings(num1, num2):\n",
    "    i, j = len(num1) - 1, len(num2) - 1\n",
    "    carry = 0\n",
    "    result = []\n",
    "\n",
    "    while i >= 0 or j >= 0 or carry != 0:\n",
    "        digit1 = int(num1[i]) if i >= 0 else 0\n",
    "        digit2 = int(num2[j]) if j >= 0 else 0\n",
    "        digit_sum = digit1 + digit2 + carry\n",
    "\n",
    "        result.append(str(digit_sum % 10))\n",
    "        carry = digit_sum // 10\n",
    "\n",
    "        i -= 1\n",
    "        j -= 1\n",
    "\n",
    "    return ''.join(result[::-1])\n",
    "\n",
    "num1 = \"11\"\n",
    "num2 = \"123\"\n",
    "print(addStrings(num1, num2))\n",
    "\n"
   ]
  },
  {
   "cell_type": "markdown",
   "id": "37cb821e",
   "metadata": {},
   "source": [
    "<aside>\n",
    "\n",
    "💡 **Question 4**\n",
    "\n",
    "Given a string s, reverse the order of characters in each word within a sentence while still preserving whitespace and initial word order.\n",
    "\n",
    "**Example 1:**\n",
    "\n",
    "**Input:** s = \"Let's take LeetCode contest\"\n",
    "\n",
    "**Output:** \"s'teL ekat edoCteeL tsetnoc\"\n",
    "\n",
    "</aside>"
   ]
  },
  {
   "cell_type": "code",
   "execution_count": 5,
   "id": "820bc548",
   "metadata": {},
   "outputs": [
    {
     "name": "stdout",
     "output_type": "stream",
     "text": [
      "s'teL ekat edoCteeL tsetnoc\n"
     ]
    }
   ],
   "source": [
    "def reverseWords(s):\n",
    "    words = s.split()  # Split the string into words\n",
    "    reversed_words = [word[::-1] for word in words]  # Reverse each word\n",
    "    reversed_sentence = ' '.join(reversed_words)  # Join the reversed words with spaces\n",
    "    return reversed_sentence\n",
    "\n",
    "s = \"Let's take LeetCode contest\"\n",
    "print(reverseWords(s))\n"
   ]
  },
  {
   "cell_type": "markdown",
   "id": "20b72774",
   "metadata": {},
   "source": [
    "<aside>\n",
    "\n",
    "💡 **Question 5**\n",
    "\n",
    "Given a string s and an integer k, reverse the first k characters for every 2k characters counting from the start of the string.\n",
    "\n",
    "If there are fewer than k characters left, reverse all of them. If there are less than 2k but greater than or equal to k characters, then reverse the first k characters and leave the other as original.\n",
    "\n",
    "**Example 1:**\n",
    "\n",
    "**Input:** s = \"abcdefg\", k = 2\n",
    "\n",
    "**Output:**\n",
    "\n",
    "\"bacdfeg\"\n",
    "\n",
    "</aside>"
   ]
  },
  {
   "cell_type": "code",
   "execution_count": 7,
   "id": "9387ca69",
   "metadata": {},
   "outputs": [
    {
     "name": "stdout",
     "output_type": "stream",
     "text": [
      "bacdfeg\n"
     ]
    }
   ],
   "source": [
    "def reverseStr(s, k):\n",
    "    chars = list(s)  # Convert string to list of characters\n",
    "    n = len(chars)\n",
    "\n",
    "    for i in range(0, n, 2*k):\n",
    "        left = i\n",
    "        right = min(i + k - 1, n - 1)\n",
    "\n",
    "        while left < right:\n",
    "            chars[left], chars[right] = chars[right], chars[left]\n",
    "            left += 1\n",
    "            right -= 1\n",
    "\n",
    "    return ''.join(chars)\n",
    "\n",
    "s = \"abcdefg\"\n",
    "k = 2\n",
    "print(reverseStr(s, k))\n"
   ]
  },
  {
   "cell_type": "markdown",
   "id": "4542a196",
   "metadata": {},
   "source": [
    "<aside>\n",
    "\n",
    "💡 **Question 6**\n",
    "\n",
    "Given two strings s and goal, return true *if and only if* s *can become* goal *after some number of **shifts** on* s.\n",
    "\n",
    "A **shift** on s consists of moving the leftmost character of s to the rightmost position.\n",
    "\n",
    "- For example, if s = \"abcde\", then it will be \"bcdea\" after one shift.\n",
    "\n",
    "**Example 1:**\n",
    "\n",
    "**Input:** s = \"abcde\", goal = \"cdeab\"\n",
    "\n",
    "**Output:**\n",
    "\n",
    "true\n",
    "\n",
    "</aside>"
   ]
  },
  {
   "cell_type": "code",
   "execution_count": 8,
   "id": "ee7f6ac5",
   "metadata": {},
   "outputs": [
    {
     "name": "stdout",
     "output_type": "stream",
     "text": [
      "True\n"
     ]
    }
   ],
   "source": [
    "def rotateString(s, goal):\n",
    "    if len(s) != len(goal):\n",
    "        return False\n",
    "    if goal in s + s:\n",
    "        return True\n",
    "    return False\n",
    "\n",
    "s = \"abcde\"\n",
    "goal = \"cdeab\"\n",
    "print(rotateString(s, goal))\n"
   ]
  },
  {
   "cell_type": "markdown",
   "id": "1b2056c3",
   "metadata": {},
   "source": [
    "<aside>\n",
    "\n",
    "💡 **Question 7**\n",
    "\n",
    "Given two strings s and t, return true *if they are equal when both are typed into empty text editors*. '#' means a backspace character.\n",
    "\n",
    "Note that after backspacing an empty text, the text will continue empty.\n",
    "\n",
    "**Example 1:**\n",
    "\n",
    "**Input:** s = \"ab#c\", t = \"ad#c\"\n",
    "\n",
    "**Output:** true\n",
    "\n",
    "**Explanation:**\n",
    "\n",
    "Both s and t become \"ac\".\n",
    "\n",
    "</aside>"
   ]
  },
  {
   "cell_type": "code",
   "execution_count": 9,
   "id": "efe1c028",
   "metadata": {},
   "outputs": [
    {
     "name": "stdout",
     "output_type": "stream",
     "text": [
      "True\n"
     ]
    }
   ],
   "source": [
    "def backspaceCompare(s, t):\n",
    "    stack_s = []\n",
    "    stack_t = []\n",
    "\n",
    "    for char in s:\n",
    "        if char != '#':\n",
    "            stack_s.append(char)\n",
    "        elif stack_s:\n",
    "            stack_s.pop()\n",
    "\n",
    "    for char in t:\n",
    "        if char != '#':\n",
    "            stack_t.append(char)\n",
    "        elif stack_t:\n",
    "            stack_t.pop()\n",
    "\n",
    "    return stack_s == stack_t\n",
    "\n",
    "s = \"ab#c\"\n",
    "t = \"ad#c\"\n",
    "print(backspaceCompare(s, t))\n"
   ]
  },
  {
   "cell_type": "markdown",
   "id": "77c7fbae",
   "metadata": {},
   "source": [
    "<aside>\n",
    "\n",
    "💡 **Question 8**\n",
    "\n",
    "You are given an array coordinates, coordinates[i] = [x, y], where [x, y] represents the coordinate of a point. Check if these points make a straight line in the XY plane.\n",
    "\n",
    "**Example 1:**\n",
    "\n",
    "![Screenshot 2023-05-29 010117.png](https://s3-us-west-2.amazonaws.com/secure.notion-static.com/012b0a97-4e4b-49b6-bc95-0531fc712978/Screenshot_2023-05-29_010117.png)\n",
    "\n",
    "[data:image/png;base64,iVBORw0KGgoAAAANSUhEUgAAAVAAAAFQCAYAAADp6CbZAAAAAXNSR0IArs4c6QAAIABJREFUeF7tnQewFUX2xg9rIIMEEUTRJaisLCUKKoqCKKgoyipI1BLQXV0WXEmiggFxDZhAcUFRQQVUcBEVTBTBuGa2QEVhkQURimggmf/19d9zPa+5972b78ydb6pevXfvzPR0/3r4OH3O6e5yv/zyyy/CgwRIgARIIGUC5SigKTPjDSRAAiTgCFBA+SKQAAmQQJoEKKBpguNtJEACJEAB5TtAAiRAAmkSoICmCY63kQAJkAAFlO8ACZAACaRJgAKaJjjeRgIkQAIxAf3xxx9l7733jhH5/vvvpV+/fvLII4/IPvvsIz///LP87ne/K/G7XLlygh8eJEACJBBFAiUsUBVJgBg9erTcfPPNcs0118j111/v2CDnnoIZxdeEbSYBEohHwAnoDz/84KxMCKROTKpSpYp89913su+++8quXbvEWqi7d++WChUqUFD5TpEACUSawB4+UAjo2LFjneUJixTD+lGjRrkfa6Hibw7hI/3usPEkEHkC5X788cdf9tprLwcCfk9YnBUrVhRYmTggkpUqVZLt27fLTz/9JLiWQ/nIvzcEQAIkoFM5MUTHkBxieeutt8p1110nGNZDLCGa+B7+0KuvvtqJJ4bzGPLr0J8kSYAESCCKBPaIwsMCxVGnTh1Zt26dNGjQQNavX+8i8Dt37owN2+1wPorg2GYSIAESKBFEevHFF6VPnz4yfvx46dmzpxNNWJtPPPGEDBgwQJ566inp2LGjo0YB5ctDAiQQdQIJE+kxVIeAcrnQqL8ibH/UCWgGTiKjSbN3NE9cg8tRMLIooFH/18H2k0ASBJDSWL58eXelBpH9GIgGoW+88UaXxYMMnmLPG6eAJvHy8BISiCoBP13Rn7FoM3MgrAg84xpYo8UunngnKKBR/ZfBdpNACgQgpLA4YYXaTBwUoaIKwVSXH67H9xqUTuFRobqUAhqq7mJlSSC/BNTCTBQ41uG8iqed1UgLlEGk/L6tfBoJBJCA9X9qYEi/w2dYpRBOO7yPQgCJQ/gAvqysEgkEjYBamRBFPTTijlmKGzdulGrVqsXO6fVRmLHIIXzQ3lbWhwQCREAtSSuiEE8M7TEbUWcq6hA/autjZE1AAfKvf/2rtGnTRi688EL3CsyYMUMWL14sEydOdJ9t2kNUTPwA/VtgVUggLoGy8jz1JiuiOpUbYhrlIysCqmDvuusuWbRokTz99NPuf6dzzz1Xzj77bLcwM9Ib/NWcog4/yi8e2x4sAmXledp0JuR3Yv0M/BuP+pEVAQVEWKD/+9//pGnTpvLNN984h3KNGjXk008/lUMPPXSPnDBaoFF/9dj+IBAoK88T/45h/GhE3aYqRcHHWVYfZSyg/qyEtm3bysCBA13+1x133CGvvvoql78rqxd4ngQKTKC0PE81dlQ8KZy/dVbGAqpFqX8TovnJJ5840fzjH/8oV155pftb/6fT+fVRyBEr8L8JPp4EyiRQVp6nBod0HWDdpULFNOr/jjMWUDsUh7m/YcMGOe6441zAaOnSpVK7du3YIszoDAD3I3tl9jIvIAESyBmB0vI88VCIJ+a5q4jaYT8FNMFyS6muxqQWKFayRyR+//33l2effTbhggIcBuTs3wMLJoGUCJSW56miaf+98t9uDobwFuo555zj1hPFjwaYdHEBHTLYoUNKvc2LSYAEskagrDxPTZ73tzWniP5/F2RtCA/AiMLPmjVLJk2aJB9//HHRLySQtbeYBZFAjghY61JXS9Jl52DE2FWTrDtOXW06ElVfqKYe+kvZqdAmm0ivz4o3/TNMGToZCyjAaid99NFHMnfuXJdIX7du3UgsZ5Wj957FkkDWCNiplRBN5HHqCNAXK93vDPfEGy2q+OpvVNKKqXoEIaQoC2XoOqLaIBVNWwcVd9voMOy5lhUBRUN18VTAAQwk2Ybpf5Ksva0siAQCREDFylp6/opJ1nqMtwuFvwaoNs8O6/EdglHY0Vfddrrbr1qvdjm8eJatCqoV5wChjFuVjAXUiiQA4LDggg6A9SOBKBDQRY6tQPqpSDZJ3o9RaCqiLiICkVOxtPzU2k1k4fpWaKLPYRHRrAgoRBQWqP2fyvevROElZRtJIIgE/KGwGjo6bFa/JT77wSE1kOIFfZFxs2PHDqlVq5YbquOwPlU7yQbfazoURqc2nRG68fXXX7tycCSyeIPINmMBVfNcncthNMOD2DGsEwlkg4D+exwyZIgL8OIzLMdOnTrJuHHj3CPU8rT5ndaXaesBccMBg2nw4MHSrVs3l/e9detWV94bb7zh4h+jR4+Wxo0bl/CPPvbYY/LKK6+458HCRBl4zsiRI+Whhx6Sk08+WTp37hwT0DBE+jMWUDs00P/ptNPC9D9JNl5WlkECQSOAf4tVq1Z1orVz505nBeq/z8qVKzsLUoM9up+RCqQaR2pZWkFbtmyZjBgxQubMmePKPPPMM6V+/fry97//XR5++GG3BgYCyjigCzCwPvjgA5epo+WsX79ebrrpJvc9xPT000+Xf//733FdA0HjqvXJWEBtw6xTWYf1QW0460UCUSAA8YRIqkVpBRRCChHdvn27C/iqUCoXK5j+UB4rrLVv31769Okjr7/+ulxyySUCUVVX3sKFC+W0006LWbhapo2TQHSHDh3qyoHA9+jRw63e1rt371jXBH2mU1YFNAovJNtIAkEmYIM3GGJPnjzZCaimLqmQqtBVqVJF+vbtK+PHjy8xxdpGyW179f6WLVu6dX5btWrl1v2FtdmwYUN56623nHsAIlinTh13qxViXd1p6tSpbtnL5557LmYRYyvkdevWCc759wWVOQU0qD3DepFACgQgnBAqCCOsRQhVkyZNZM2aNW74rBYmirTRdlikDRo0kFWrVrlr/JGjn2WjFiy28li9erXzd44ZM0bGjh0rXbp0kY4dO8q9997rFhKCeONAGRqw0mg+6gYBPeqoo2L54lOmTHF+1A8//DAmqikgKMilFNCCYOdDSSC7BOIt0IMgDkTODpv9aDk+w3Jcvny5y922wSN/WK+WJMQW6/4i7xPHjTfeKPfdd5/bGwkHfqPMLVu2uCR6HYYjal+hQgUnnFh8/bXXXosJK/ykb775pgwYMECWLFni7glDOiQFNLvvMUsjgbwSsEFcPFiHyBDGRo0aydq1a0sshqzphTZ5HmK3cuXK2LAZ53zxsgFhCGizZs2c1QoLFJYmrEf4QnFAWGvWrCmfffaZCyz5KY0IFmGYf8UVV7jrNefz8ccfd+XMnz8/rwwzeRgFNBN6vJcEAkBA0490mqZWadCgQW5dCgiUTZpXKxOLnuP7/v37y4QJE9xtKpR2+qdOy9S0I3yuXr26276nRYsWTqQh1oigN2/eXKZNm+b8mAsWLHDWKASxV69ernxYofvtt59bM/iQQw5xz1cL9eabb3bpUHfeeWdoFmGngAbgHwCrQAKZENAEeJuLDTGFQMIS3LZtW8wPqv5Q/Y1tdyBauB5CFm8qpwqczRNFviYCRcgDhbWKIfzVV1/tLFKI5gsvvCAINGFHCkTbYZWibAzbcQ/WDcahQg3hRgoUfKeXXnqpuzYMaZAU0EzeXN5LAgEhEG/GkC4MAhFFqhIsUT2QvgTh27x5c8z3qWIGwbSzl/xpmTg3b948mT59ujz55JOx6P1XX33lxBPWqAa08DwII6xKFWe7ohPqoNskH3nkkc4PirqpdRwQvAmrQQENeg+xfiRQBgF/rU5cju9033b8PWzYMJf0DmGDIHbt2tVFzu3wXB9jLVobhfct3Q4dOrhUJvhQcaAsDNEhfmpBrlixwqUmIdfT7sLr1xnJ97BKkcqk9U92abxCviAU0ELS57NJIAkCQdm33YophuSbNm1yFicCShBNPdJZhW3mzJkuDQp+VhXjdMpJAmdWL6GAZhUnCyOB3BAo1L7t/px4mxSvLgGIp8311L/Vp1oaETv9214fBvF0Qv+LEvJaqTMREpzOzVvCUkmABEoQsIEbnPADK/nYt92f0qlJ8baidk3gdBcBsSs+2aBWkF8JCmiQe4d1I4FfCUBI7YLEGiBSf6EuI6d+ymzOIfdFXD/rs/2Fk/F9qtuXY6ETzG7SmUphSKKnBcp/niQQcALWKks0rNXEd4hPLvZtL+25NjBkp5MCa7w1ROPh9nNP9Zp0Ldl8dikt0HzS5rNIIA0Chdy33RdPPyqvKU+6pU8azYu5JfyFn5kHmg5N3kMCJFCCgFpidkEQTYTP977t1jcZL30KFUd9rYuhtO60bdNhf7L3BuE1oQUahF5gHUggAQF/kRCbMK8bN1o/aLxFRTKF6y8qkmiI7e+7lIofNt7CJf7U1EzbkYv7KaC5oMoySSAFAkHJ80yhyrz0VwIUUL4KJBAAAoXK8wxA00NdBQpoqLuPlQ87gSDkeYadYSHrTwEtJH0+mwR+JVDIPE92QvoEKKDps+OdJJAxgSDkeWbciAgXQAGNcOez6cEgUMg8z2AQCG8tKKDh7TvWvEgIBCnPs0iQ5q0ZFNC8oeaDSGBPAkHI82S/pE+AApo+O95JAkkRYJ5nUphCeREFNJTdxkqHjQDzPMPWY8nVlwKaHCdeRQJpEWCeZ1rYQnMTBTQ0XcWKhpkA8zzD3HuJ604BLc5+ZasCQoB5ngHpiBxVgwKaI7AslgSUAPM8i/ddoIAWb9+yZQEhwDzPgHREDqpBAc0BVBZJAkqAeZ7F/S5QQIu7f9m6HBOw1qXuVontfrHVL/yfutkbqmG3w8Biw7r9r+4rZM/b7S3Uj+pH9O2eQcnsaInrtU54ZrJ7FuUYYaiLp4CGuvtY+SAQUCFTgcL+QFb07MZrul2FXostOayQqfjqb1u2rvAOcUWZ9l4VRtyH5+tWH7jHLyMMm7UFoV+TqQMFNBlKvIYEEhDQWUZ2AzS1Hn3fJ8RM9/2xxSXaPK00i9NatPoca7Xq34k2gVMBZsdmRoACmhk/3k0CjoC/HxC+s9af/Yy//eGz7oeum8XBkqxYsaIr24ohysS58uXLu3O+QOI7lIVy7HbBuA4/2EdJr9E6sQvTJ0ABTZ8d7ySBEgKnOCCOKlIYSkP0VEz94bPdJA7X2mP37t2yY8cOqVWrlvvaF139bMXb3q+iiSH95s2bpUaNGk5c8dkXX3ZlegQooOlx410kUELUhgwZIrNmzXIiB8uxU6dOMm7cOHeNiqcdkkPI4lmAEEMcELnBgwfL+eefLyeeeKLceuut8vHHH7vyca558+aCZ6pQq39048aNcs8998jixYulYcOGcv3118shhxwiI0eOlA4dOshpp50mu3btilm37MbMCFBAM+PHuyNOAIJWtWpVJ5I7d+4sEdipXLmysyAhitZaVIFUKxC/1TeqQrhs2TIZMWKEPP/88wJL9Pjjj5drr702NnQ/4IAD5LjjjovR16BUly5dpG7dujJ8+HCZOHGifPTRR/LSSy/J+vXrpV27drJkyRInnon8rhHvzpSbTwFNGRlvIIHfCEA8IZJqUfqRcYjo9u3bnf9RhVLvtsN5fyjfr18/ad++vfTp08eJ70EHHeREsLTj3XfflYsuusiJplqmCxcudOVAoLt37y7nnnuu9OzZ0wk+j8wJUEAzZ8gSIkTApidhiD158mQnoJq6pEKKz7DyqlSpIn379pXx48fHAj64RgM9Pjq9v2XLls6CPOaYY2TTpk1y7LHHSqtWrdwwHoJ4ww03SO3atUsEkaZNmybz5s2TJk2ayJtvvikdO3YUCHHNmjXd82DBfvnllzJlyhTmgGbpnaWAZgkkiyluAhBODcDAWoQ4QqjWrFnjrDu1MEFBfZ74GxZpgwYNZNWqVe4a/GgQR4fwmieq4ozflSpVktWrV0u9evWcP/O8885zPlUEgm6++WYnzC+//HIMOsq9++67na8TFiZEFqLdtGlTmTp1qnvuY4895sr44IMPYrmhxd1ruW8dBTT3jPmEIiDgT8lEkxo3buxETqPuOnzXoTqEFOcQzFm+fLlLIbLBI39Yr0N6iC2ED4uQ6GFTkt5++21p3bq1s0yrVasWm/UEYZ0wYYKsW7fOifrWrVvl97//vbuuQoUKsmDBAmeRos44OBMp8xeTApo5Q5ZQxAT8FCF8VqFs1KiRrF27NuZPVMG0Fim+g4CuXLky5peEcPopSzaoAwFt1qyZs1oREMKwHccf/vAHJ8Bff/211K9fX7Zs2eKEEQe+f+SRR+Thhx+WV1991VmcEMg6deo48cZw/7nnnpMHHnhA5s6dW2KmUhF3X86bRgHNOWI+IOwENP1IU4i0PYMGDZJJkya5xHZ/yiSuwXx4fN+/f39nGeKwlqS9x/++evXqsmjRImnRooXMnz/fBYc+/fRTZ8WOGTPGBYr+9a9/yYYNG9wQv0ePHvLFF1/IoYceKu+8844cffTRTixnzJghCCThGD16tAto3XbbbQwiZemlpIBmCSSLKV4CftAHQoofCCQCNNu2bYv5QdX61N/wWWIojesTTeXUiLjNE+3cubP07t3b5YFCNPE3hu6YlYTnPvXUU05cYW22bds25oOFaCK4hXoh33P27Nly0kknuc657LLLBMEpCLr/n0Hx9l5uW0YBzS1fll4kBOLNGNKFQSBWsOxgieqB9CUM0zEDSH2f6uOEYCZabQnCi3OIpk+fPl2eeOKJmLWIIfs333zjAksQUc0dHThwoNx3332xZ3/77bfOtXDYYYe57xC0Qt2QfP/WW2+5ABTqRB9o5i8nBTRzhiyhyAmoeNp55zqvHCKEv4cNGyZz5sxxvkh817VrVxk7dqwTPz9p3Vq0/lx2m96EmUNwESAQFC/tCffCT4pMAFih6lf164v6wGKFHxapTCrSOi++yLsvp82jgOYULwsPA4Gg7NtuxRQReETPMTUTASVYnHrY65LlO3PmTMEsJU2h0vVI7VJ7yZbF634jQAHl20ACIi5lSFc4irc8nPVPQoTgX8yGBefPibezk9QlAPHE83EOVqb+rT7V0jpQXQXWB4vr0xFhvih7EqCA8q2INAErjADhD7c1bUkDPTZJPlsLE/tTOlUobcdACCHc/hJ5qXSe9Xn6gppKObyWFijfARIoQQBCCpGCFQoB0wCRtdYSLUmXKUpfxPWzPtvmjNrk+1QEHAudYHYT7omXh5ppG6J6Py3QqPY82+0IWKss0bBWBQfig6G+5nemImCl4S7tudZHaaeT+nUvrXw/x1SvzVb9o/wqUUCj3PtsuyNQyH3bffH0o/Ka8qTD93S6TAXUpk7Fc1ekU3bU76GARv0NYPtjC2vo8BhINBFeN2ez1louLTfrm4yXPoW6+S6G0rpQ66plpXIvX42yCVBAy2bEK4qYgBUWm9oDIUOUXUXVF7Nsiqj1a1rU/jP8fZdSWdPTf4bmq9qVoYq4m3PWNApoztCy4KAQCEqeZ1B4sB7ZI0ABzR5LlhRgAoXK8wwwElYtCwQooFmAyCKCSyAIeZ7BpcOaZUqAApopQd4fCgKFzPMMBSBWMi0CFNC0sPGmsBAIQp5nWFixnqkToICmzox3hIxAIfM8Q4aK1U2RAAU0RWC8PHwEbC6k1r5QeZ7ho8cal0aAAsr3o6gJBCHPs6gBR7xxFNCIvwDF0HzmeRZDL4azDRTQcPYba+0RYJ4nX4lCEKCAFoI6n5k1AszzzBpKFpQGAQpoGtB4S/AIMM8zeH0ShRpRQKPQy0XcRuZ5FnHnhqBpFNAQdBKrWDoB5nnyDSkUAQpoocjzuVkjwDzPrKFkQSkSoICmCIyXB4sA8zyD1R9Rqw0FNGo9HrL2WutSd6vEdr/Ylwj+T8wo0oWF7XYYujgy7tF9hex53d7Cfmf/trtz2o3Y7CLHWga+0+2JgZd7rYfsJcuguhTQDODx1vwQUNGyq6hr8MjfU0h309RrsSWHDTSp+OpvbYGWs3v3bqlQoUKsYSqSdmM2FUsIZaIdPPNDhk8pNAEKaKF7gM8vlYAKl7UIreWnliYKwd8qarZQf693K5p2i1+1ZFUg1cJFmSrC1iLGvXZLDBVlPA/XYUsQHsVNgAJa3P1bNK3z9wNSwbRDat23Hees1YnPOgzXRUQgdhUrVtyDT7yN3OIN8/W5dqdLfw+jbO6bVDQdWWQNoYAWWYcWY3P87XghjiqKGKJDOFU8fdFS8fMFFfdjuL59+3apXbt2CX+q3gORRfm6M6e1SC1n1O+bb76RWrVqxXb49F0BxdgvbJMIBZRvQaAJqPANGTJEZs2a5YQOlmOnTp1k3Lhxru4qnnZapw7D/Z0rYcniwNB78ODB0q1bNzn++ONdGSh7w4YNcv7558uCBQukUqVKMTZaj9tuu02WLl0qKAeBrObNm8vQoUPdT4cOHaRjx46xoBYt0EC/WlmpHAU0KxhZSK4IQLiqVq3qRGnnzp3OGlQxq1y5suzYscOJmX5nBRJ1stv5WkFbtmyZjBgxQmbPnh3zVeL8aaedJq+99pps3rxZqlWrFisX5eCnZcuWTiz3339/Z8EedNBBcswxx8iWLVucEENcy5cvHxPRXHFhucEgQAENRj+wFgkIQDwhkmpRWgGFaEJEMQyPt7e6FUx/KN+vXz9p37699OnTxz0Z5++44w7BcHzkyJFOrOP5SOvWreusVN9Xirr06tVL/vSnP0n37t3dedSVR3EToIAWd/+GrnU2PQlD7MmTJzsBxZAb51RI8RnWZpUqVaRv374yfvz4mKhpXma8fEy9H5bkxIkTnUUJ63bJkiUycOBAeemll6RGjRqyceNGqV69eqxMgFy/fr27vnXr1rJy5UpncY4ZM8b5UHGMGjVK1qxZI1OnTi1xX+g6gRVOmgAFNGlUvDCXBFQcIYyw3iCOTZo0cYKkkXN9vo22w8pr0KCBrFq1yt3npxbZCLqKM37Dv7l69WqpV6+eszZPOeUUJ9Z4JixPiLb6QPW+hQsXOuvy1ltvdaIJf+h+++3n3ACox7Rp0+Suu+5yYswjGgQooNHo58C30p+SiQo3btzYiZxG3XX4jnM6AwnnGjZsKMuXL3e+TBs88of1OqSH2DZt2lSwCAmO4cOHy6ZNm2TQoEFOTNu1ayeLFi2So446ypWJYJEO89WqRVkffvih839+9dVXzl8K3ylcAytWrKAPNPBvXHYqSAHNDkeWkiYBm9+JIvBZhbJRo0aydu3amBhppNxapPgOAoohNQ477dJWySbTQ0CbNWvmrFakHl177bXyyiuvOFHGz3vvvSctWrSQ++67T0444YRYMRBGiO6RRx7p6gTr+IgjjnABJFitsEBnzJghzz///B55qGni4W0BJ0ABDXgHRaF6mn4Ea9LO7IFFOGnSJEE+pg7b7fAdliE+9+/fXyZMmOBQ2SmX9h7/e/g3YWVCKNUyVTcCyt21a5eLpsMXCr/ohRdeKIsXL5YLLrhAPvroIzeEv+GGG+STTz5xPk9M/7z99ttl3bp1cs8999ACjcKLixS6X+wqCKbR+DretLiIcGEz80jAD/pAyPADIatZs6Zs27Yt5gdV61N/I+CzdetWd32iqZx2sRFNuu/cubP07t1bevTosUdLcc23337rIvwYlrdt2zZm2V500UXy9ttvuxQmHPB/IrCEA0LeqlUrueyyy2iB5vH9KeSjKKCFpM9nxwjEmzGkC4NARJGqBEtUD4gbhvrI11Tfp1qSEEA7e8lfeATn5s2bJ9OnT5cnn3zSlaszjvzFSfC8AQMGxCxcfIagw+95yCGHxFZegu8U/tB3333XCT9+mEhf/C84BbT4+zjwLUw0/xzCCPHD+WHDhsmcOXOcKOG7rl27ytixY53V6S8WYi1aK4i+pYuZQ/fee6/zYyaaAgrf6ueff+5mGeHQ8vytlB999FHnr4U/Veto3RGB7wRWMC0CFNC0sPGmVAgEZd92K6YIBiHyDh8nAkoaabcimUobZ86cKV26dIn5cHWVKK4NmgrF8F1LAQ1fn4WyxoXat92fE28tTXUJQDwhrjiHobz+rT7V0oCrq8D6YNMV4VB2bMQrTQGN+AuQ6+bbBT7wLH+4rWlLGuixUfZs+RD9KZ0qlLbtEEIMuW3kPlU2dsUnX1BTLYvXh4MABTQc/RT6WkJIIVJIDYKAaYDIWmuJlqTLtPG+iOtnfbads55o8ZGy6oAgEmYuJcpDLet+ng8nAQpoOPstNLW2Vlm8CLcVMYgPhvqa35ktC7S051ofpZ1OinrFW0M0Hng/x1SvyVb9Q9PZEawoBTSCnZ7vJhdy33ZfPP2ovKY86fA9HTYqoP7Cz4m2EknnGbwnmAQooMHsl6KqlVpiOjxG4zQRXld7t9ZaLi0365uMlz6FuvkuhtI6w7Yt3iZzRdWRbMweBCigfClySsBfJMQmzCPPU0XVF7Nsiqi/qEiiIba/75K/mn1poOItXOJPTc0paBZeEAIU0IJgL66HBiXPs7iosjVhIEABDUMvhaCOhcrzDAEaVrGICVBAi7hz89G0IOR55qOdfAYJxCNAAeV7kRUChczzzEoDWAgJpEGAApoGNN7yG4Eg5HmyP0igUAQooIUiX0TPLWSeZxFhZFNCSIACGsJOC1qVg5TnGTQ2rE9xE6CAFnf/5rx1QcjzzHkj+QASSECAAspXo0wCzPMsExEviCgBCmhEOz7VZjPPM1VivD4KBCigUejlDNrIPM8M4PHWoidAAS36Ls5OA5nnmR2OLKW4CFBAi6s/s94a5nlmHSkLLCICFNAi6sxcNYV5nrkiy3LDToACGvYezEP9meeZB8h8RCgJUEBD2W35qzTzPPPHmk8KHwEKaPj6LKs1ttal7laJ7X6xLxH8n1hlXRcWttth6L7nuEf3FbLn/e0tUGmcxw+2z7CHv/eQfta6aX30Hm7cltVXgIVlQIACmgG8YrlVhQq/dRV1FTF/TyHdTVOvxZYcVgBV7PS3JuHHu8auAI/rIax2kzd73reEwT7ZTd+KpZ/YjuARoIAGr0/yWiNQcuAvAAAgAElEQVQVOLsBmlqPvu8TVqfu+2MrmWjzNBU9FUK1QlGObiUcTwRL2wgu0Q6beYXGh5HArwQooHwVHAF/PyB8p/u06xBeP8ez/nRYrZvFwaKsWLGiK9uKpB3aa3TfH5Jr8j5+45w/5Kf1yZc2KAQooEHpiQLWw/dXQvBwqE8Uwqni6W/2ZjeJU6tSm7J7927ZsWOH1KhRw1muKqS+havX23QpH8eGDRukbt26TuhRB2xIx22DC/jS8NGOAAU04i+CitqQIUNk1qxZTuRgOXbq1EnGjRv3/y9JuXJOtOy0TnzWc/5wHp9hNQ4ePFi6desmrVu3lhdeeEGmTJniyjjllFOkb9++UqFCBVe2tVDVt7pp0yY5/fTT5f3333f3XHPNNXLWWWe5e3GPH1iKeDey+QUiQAEtEPigPBbiVbVqVSdKO3fudL5JFbTKlSs7CxKWnn6Hv1Ug8dtu52ut02XLlsmIESPkmWeekS+++EJatmwp1157rbRp08Z937ZtW7nuuuvc/epXRR3UqjzttNNk8eLFsmXLFqlWrZr7DSFeunSplC9fPnZfUDiyHtEkQAGNZr/HWg3xhEiqRWkFFKIJEd2+fXsJodSbrWD6Q/l+/fpJ+/btpU+fPjJt2jR544035P7773e3/vOf/5Q5c+bI3LlznWDbwBDKvOWWW9x3o0aNcnWrVKmSE1aU1blzZ+ndu3fEe43NDwoBCmhQeiJP9bDpSRhiT5482YkUhtw4p0KKzxCtKlWquOH2+PHjS1iLNv/TVl3vh8U5ceJEadWqVew0rEhYkP3795errrpKLr30Umf5WgF97733BO6EF1980QknxBsijrrdeOONsnr1aucKUL9snrDxMSQQlwAFNCIvhoojhBGCBXFs0qSJrFmzxg2hdSiufk1rkTZo0EBWrVoVNxHeip+KM35D/CB2CPyoDxWW6NChQwXBpRkzZsiZZ54Zo4/AEso64YQTZOrUqXLEEUe4QNGuXbvckB1lPPTQQ07wYc3aYX9EupDNDCABCmgAOyUXVYqXiN64cWMnchp11+E7nq8zkHCuYcOGsnz5cidoNnhk/Z+4R4f0ENumTZsKour2e70X1iysya1bt7rz6veEb3T9+vXOAkUQqWPHjvL6669Ls2bNnJ92/vz5cvnll8uKFSuYRJ+Ll4RlpkyAApoysnDdYPM7VaxUKBs1aiRr166NTdXUiLi1SPEdBHTlypUxMYRw+ilLNqUIAgrRw29YoHfccYcccMABcuGFF7oyIJz4/ssvv5SaNWvGUpyGDx/uRBLTSHEgAo9yHnzwQTn22GNl9uzZzpWwaNEid54zkcL1LhZjbSmgxdirXps0/UinaerpQYMGyaRJk1xKkE2aV0sRQobv4bOcMGFCCWvRTv+00XP9vnr16k7omjdv7oJFY8aMcYEjCOntt9/uIuxIbdq8ebP73bNnz1jCvIoxytUgEtpw1113ybp16+Tuu++OWbsR6D42McAEKKAB7pxsVQ2iZoM+EFL8QCBhAW7bti3mB1XrU38jCR4WI65PNJXTLjaiwR2Nlvfo0UO+/vprOfvss+Wdd96R+vXry6GHHuoEFf5OCOmpp57qhvE2txM+Ufg+v/32WxdEwvmBAwfKcccdJxdddFFM8O3c+WzxYjkkkCwBCmiypEJ+XbwZQ7owCEQU0W4ImB4QLQzTYSGq71OtS4iknb3kLzyCc/PmzZPp06e7FCYErnAvfJcILh100EGxoBXqdcUVVzgL16ZFWV8r6olnHn744fL2229LrVq1XCAKifg8SKCQBCighaSfp2ereNqIOf6GMEL88PewYcPcEFtnAnXt2lXGjh3rhMufMmktWj+H01q6HTp0cC4CRPHtfHa7XN3nn38u+GnXrl3Mwo23FB4i8xs3bnSzmzTAxYVF8vQC8TEJCVBAi+DlCMq+7VbQEIFHJB2ih0CQBoaAOx3hmzlzpnTp0iUmxH7+aBF0I5sQQgIU0BB2WrwqF2rfdn9OvB2Gq0sA4qkrK+nMI72uLB+mWqPWB5uuCBdJV7MZASJAAQ1QZ6RTFbvAB+73h9v4DNGKtySdv7JSOs/HPf6UTnz205wghBjG+0vkpfJMm7bkC2oq5fBaEsgWAQpotkgWuBwIqUauIWAaILLWWqIl6TKtui/i+lmfbcU00eIjZdUBC50gAIW2xctDLet+nieBXBCggOaCah7LtFZZIt+iCg7EB0N9ze/MlgVa2nPtEN1OJwWiZBPh1ar265ut+uexu/ioIiNAAS2CDi3kvu2+ePpReU150uF7OrhVQP3oPBdUTocm78kmAQpoNmkWqCy1xOyCIJoIj+Gzph2pHzSXlpv1TcZLn1KfqXUxlIbNtk0XEEn23gJ1Bx8bIQIU0JB3tr9IiE2YR56niqovZtkUUX9REUXqP8Pfd0kFPZku8J+h+arx9ktKpjxeQwLZIEABzQbFHJcRlDzPHDeTxZNA6AhQQEPSZYXK8wwJHlaTBApCgAJaEOzJPzQIeZ7J15ZXkkC0CFBAQ9LfhczzDAkiVpME8k6AApp35Kk9MAh5nqnVmFeTQHQIUEBD0NeFzPMMAR5WkQQKRoACWjD0yT84SHmeydeaV5JA8ROggAa8j4OQ5xlwRKweCRSMAAW0YOh/ezDzPAPQCawCCaRBgAKaBrRc3MI8z1xQZZkkkFsCFNDc8i2zdOZ5lomIF5BAYAlQQAPSNczzDEhHsBokkAIBCmgKsHJxKfM8c0GVZZJAfghQQPPDudSnMM8zAJ3AKpBAGgQooGlAy/YtzPPMNlGWRwL5IUABzQ/nhE9hnmeBO4CPJ4EMCFBAM4CXzK3WutTdKrHdL/Ylgv8Tq6zrwsJ2Owzd9xz36L5C9rxub+ELsG4zjLrZBYvj3av197fh0O9TWfA4GRa8hgSKjQAFNA89qiJqV1HX4JG/p5BuV6HXYksOG2hS8dXfWn1/vyB8b8VVP/vbDdsV7BOdywMiPoIEQkmAAprjbtNZRnYDNBU73/cJi0/3/bHVSrR5mr/NhRVR/VuF1t+7Hc+CMGNLDF+M8exkd8zMMT4WTwKBJkABzVP3+PsB6RDbCpvu2x5PwHQ/dN0sDqJXsWJFt2Gc3offVmwTbQOcyPq1Sf3xLNo8oeJjSCA0BCigeegqX4wgYDjUJwrhUxH0Ra+0Ifbu3bsFP9WqVXMWo24iZ/di98VYRRJ1gh9Wj/Xr10u9evVK0KCI5uHl4CNCTYACmuPuU2tvyJAhMmvWLCd0sBw7deok48aNc09X8bQWoAaD/EAOLEwcGHoPHjxYunbtKsccc4z897//lVtuuUUghGeffbb07NlTDjjggJhFqj7VxYsXy4MPPui+P+mkk6R///5SpUoVGTRokJx11lnSrl07KV++vFA8c/xisPiiIEABzXE3QjCrVq3qRHLnzp1ig0KVK1eWHTt2ODFTobUCiapZP6e1TpctWyYjRoyQZ5991lmhBx54oPTt29f93H///bJy5UqZP3++a52W/dlnn8kJJ5wgI0eOdOJ51VVXSfv27eXqq6+WjRs3OvH85JNPckyExZNA8RCggOa4LyGeEEm1KK2AQtggotu3by8hlFolP/CDobmKYb9+/Zz49e7d2wnlddddJ2+99Za7FVYoBHXLli2y3377xdKgHnvsMXn//fflnnvucc+bPHmyPPXUU+5+PKtHjx5yzjnnOOtVg1lMZcrxC8LiQ02AAprl7rMBGgyxIVIQUAy5cU6FFJ9hbWL4DKtx/PjxJdKObP6nraLe37JlS5k4caK0atVKvvrqK8F0UAzZIYyzZ8+WUaNGCaxUHL4Y4vr33ntPLr/8cucG+Mtf/uKuwT1r1qyRqVOnMgqf5feCxRUnAQpolvpVxRHCCBGDODZp0sQJkkbO9VE22g6LtEGDBrJq1Sp3H35Qhh42T1TFGb8rVaokq1evlv3337/E9U888YT8+c9/dn7O7t27u2JsZB73zpgxQ4YPH+4sX4jtqaee6p776KOPyt133y0ffvihq3Oi9KksIWMxJBB6AhTQLHWhPyMIxTZu3NiJnEbddfiuVqHmYjZs2FCWL1/uoug2eOTneeqQHmLbtGlTZ3XqgaBPt27dnA8TFuTxxx/vRFEj/fZv3IPPCGKNHj1aNm/e7HyzCxYscNboihUrskSFxZBAcROggGbYvza/U609FcpGjRrJ2rVrY1MqVTCtRYrvIKAI+uDQfE9/VpC1BiGgzZo1c1arDtvPO+88qVu3rnMFIIq+a9cuF+23x1133SU1a9aUiy++2H29adMm5yvdunWrVKhQQZ555hl56KGH5MUXX4ybXJ8hKt5OAkVHgAKahS7V9COd2aNFIjVo0qRJToxssrtamcjDxPdIJZowYUKJ4XaiBHn9vnr16rJo0SJp0aKFvPDCCzJs2DB555133LBby4VQf/vtt04YEXRCwOjee++V6dOnS/369d0z586d6yL5uOcf//iHs0Zvv/32mM/WF/Is4GIRJFA0BCigWehKiJoN+kBI8QNRgsW3bdu2mB9UrU/9XaNGDWcB4vpEUzntYiOadN+5c2cXgUfkHDmmsC710LI///xzZ9meccYZTlgh5CeeeKL85z//cZbnQQcdJGPHjpXWrVu7WyHkSHNCUMtPxs8CJhZBAkVHgAKapS6NN2NIFwaBiCJgAwHTA+lLsO5g8anvU61LiKRNZPenXuLcvHnznCWJoJGu3KQuAJSL3FAMy1HmlVdeKbfeeqsTdAgj8kGR3lSrVi33WcUbflWkQuH7RIn8WcLFYkigKAhQQLPQjSqeNmKOvyGMECf8jSH2nDlznDDhO8wggvXnz19XEVSL1l9qzlq6HTp0cEnziPbHO3Dvp59+6nydbdq0KWFV+kGvKVOmyIYNG1xyvp0RlQU8LIIEipYABTSJrg3Kvu1WTBGBhzBiBhECSnZeu79EXhJNlJkzZ0qXLl1iKVFq1XIonww9XhNVAhTQJHu+UPu2+0NpOztJXQIQz3gpS+pTLa2J6iqwPlhcn44IJ4mSl5FA0RCggJbRlf5w1k8ux2f4HDXQY5Pk/ZWV0n1r/Cmdmttpy4MQIgHfRvtTfZ5dA9QX1FTL4vUkEAUCFNAkexlCCpFCjiUETANE1lpLtCRdko9IeJkv4vpZn21TjRItPlJWHbDQCWY3JcpDLet+nieBKBKggJbR69YqSzSsxfcQMYgPhvqah5ktC7S051ofpZ1OimYlu6q8WtV+fbNV/yj+w2Kbo0GAAppEPxdy33ZfPP2ovKY86fA9iebscYkKqL8GKOfCp0OT90SJAAU0id5WS0yHx7hFk9XV8rTWWi4tN+ubjJc+hbr5LobSmmjbpqs2WfdEEnh4CQlElgAFtIyu9/MlbcK8bqFh/aD+9dl4s6xf05bnC7W/71Iqa3n6z9B8VbsyVDbawjJIoJgIUEDNcm9lpe5Yaw3iiSEv8ySL6Z8D20ICqRGggP7Kq1B5nql1F68mARIIEoHIC2gQ8jyD9EKwLiRAAskTiLyAKqpC5nkm3128kgRIIEgEIi+gQcjzDNILwbqQAAkkTyDyAgpUhczzTL6reCUJkEDQCFBAf82btGtqopMKlecZtBeE9SEBEkhMIPICGoQ8T76gJEAC4SQQCQENynqe4XxFWGsSIIFEBCIhoL6fUxPi7dxvm86E2TfY1RLJ8jxIgARIILICyjxPvvwkQAK5IhAZC5R5nrl6hVguCUSXQNELKPM8o/tys+UkkGsCRS+gvv9To+429xNL0mF/IV2azg77U1nRKNedxfJJgASCRSASAhqk9TyD1f2sDQmQQCYEil5AmeeZyevBe0mABEojEHoBtdal7laJ4Tj2JYL/EzOKdBhu1/vUmUe4R9f0tOc1xUm/01zSeNtcxFuBXuug9+/evVsqVKhQoi9yuXI9X3sSIIHcEwi9gAKRCpFdRV2DR/4iybpdhV4Lv6cNNKnw6W+UH28fonjlo0wryH736XncyxzT3L/cfAIJ5JpA6AU0nmWo1qPv+4TVqfv+WLCJNk/zhdMXRyu8/oZsOIcfJOXrvHq7n7ufn5rrjmb5JEAC2ScQegFVJP5+QPhe92nXIbx+xjl/y1/dD13FDhZoxYoVnUWpwmkFNZF4+kKq9dPrrViXtYVI9rubJZIACWSTQFEIaDzrT4f2GKJDOFU8fb+j3SQO19oDfktM6axRo0ZMcK3laHfItHWw36tYb9iwQerVq+esUbt3fDY7k2WRAAnkl0DoBVQtuyFDhsisWbOc0MFy7NSpk4wbN87RVPG04gch1XP+cB6fMfQePHiwnH/++XLiiSfGLrnssssEP0cddVTM96pijecsWbJEbrvtNvnqq6/kzDPPlO7du8sBBxwgQ4cOdZ9PPvlk+j/z+47zaSSQMwJFIaBVq1Z1Irlz506XDK+iWrlyZdmxY4dg2GyH0CqQ+G2387XW6bJly2TEiBHy/PPPu2vmzZsnTz/9tDz++OOycOFCOfroo6VSpUqxjoEFip+DDz5YLr30UunatatMmjRJPv/8c3nppZdky5Yt0q5dOyewqKMfvMpZD7NgEiCBnBEIvYBCPCGSalFaYYJoQkS3b99eQiiVphVMfyjfr18/ad++vfTq1csNu2+55RbZtGmTPPDAAzJ37lxp27atE2Yd9kPAn3vuObn99tvltddec4/AsL1+/fry5ZdfOiv0vPPOcxYpfpjClLN3mgWTQN4IhE5AbfoQhtiTJ092AoohN86pkOIzBK5KlSrSt29fGT9+fCwdqbR0I72/ZcuWMnHiRGnVqpWzLDXtCIIIKxQCqvmjWifU4+uvv5YDDzzQPQsW6w033CBLly51115zzTXyxRdfyKOPPurqhjryIAESCC+B0AioiiNEB+IEAWrSpImsWbMmliak3WCj7bAQGzRoIKtWrXL34ccKV7zIOp6F4fnq1atd4Mf6Sw855BCZNm2atGnTxpWFaL0myNuFmyGel1xyiUyYMEH69OnjAkdPPvmk3HvvvfLuu+/SAg3vvxnWnARiBEIjoP6UTLSgcePGTuQgeDh0+I6/dQYSzjVs2FCWL1/urEgrhtb/iXt0WA2xbdq0qRM9e+D8EUcc4UTx1FNPjTvDCWViqA5f58yZM50Fq8eCBQucqK5YsYI+UP4jJIEiIBB4AbX5neCtfkcIY6NGjWTt2rUxIYPlqdM3VRzxHQR05cqVrrs039NPWbJDaghos2bNnNVau3btWPm4B0EiHcKjPLu6E0QbUXv4OxFAwmdb/xkzZgh+Zs+eHUvoVzdAEbxLbAIJRI5A4AVURUrF0Q6/Bw0a5IQKw2ibNK9WJubD4/v+/fs7q1EFGGXY6Z+4RgVUv69evbosWrRIWrRoUWIqJwQUPsxTTjnFlbd582YXZe/du7eL2CNy/+qrrzoXAMrEAT8sykUgCoEl+GN5kAAJhJ9AKATUD/roNEkIZM2aNWXbtm0xP6jOJNLfSILfunWrs0wTTeW0i41o0n3nzp2dKHbr1i22TijqAWsWAop8TgSX3njjDSemOAfxRA6oPltdCQgiwSUwYMAAlz+KCD+u53z48P8DYguiTSAUAmqHynYKpS4MAhFFqhIsUT2QvoQhNyxE9X2qdQmR9GcO4VodjuMc8j6nT5/uAj/+UL18+fKx5+BaCOedd94Z+y5ekj5mNSF3FClOtWrVctf600mj/Sqy9SQQPgKhEFAVNhsxx98QRogQ/h42bJjMmTPHWXb4DonsY8eOdVannzKUaH67b+l26NDBDf0PO+ywEnmk6odF2fCtwg+LtCa1OPU1QL10Hj2sVuSDXnXVVTF3A/2f4fsHwxqTgCUQCAENyr7tVqARgUfi/MaNG11ACe4CK4ypih8i8l26dImlUOl6pKmWw9eXBEggOAQCIaDAYfco0qF2PvZt94fbdoaQugQgnmpN6lBfrytLALUN/gIjXIkpOP8IWBMSSJdAwQXUXxfTH27b4TIaaZPkszUd0p/Sic9+mhOEENF7f4m8VMBbn6cvqKmUw2tJgASCQaDgAmqHxRApBGggYBogwnm11hItSZcpSl/E9bM+24pposVHyqoDFjpBalOiPNSy7ud5EiCB4BEouIBaqyzRsBbf65bDdi3NbFmgpT3XDtHtdFJ0ZbJRdD/HVF+DbNU/eK8Va0QC0SBQcAH1/Z92Zo+mC+Vy33ZfPO1n64vV4Xs6r4UKqL/wMxcUSYcm7yGB4BAIhICqUOnwGHg0GV0tT2ut5dJys77JeOlTqJvvYiitO23bdD8m654IzqvAmpAACaRKoOAC6i8Sop8hZMjzVFH1xSybIuovKpJoiO3vu6QzmJKBHm/hErSRS9olQ4/XkEAwCeRFQIOS5xnMLmCtSIAEwkogLwLq+znzmecZ1o5hvUmABIJPIOcCGoQ8z+B3A2tIAiQQRgI5F1CFAiEtVJ5nGDuGdSYBEgg+gZwLaBDyPIPfDawhCZBAGAnkXEB9/2e+8zzD2CmsMwmQQDgI5EVAg5TnGY5uYS1JgATCQCDnAhqEPM8wdATrSAIkED4CWRFQ5nmGr+NZYxIggcwJZEVAfT8n8zwz7xiWQAIkEHwCGQso8zyD38msIQmQQG4IZCygWi3meeamg1gqCZBAcAlkLKDM8wxu57JmJEACuSWQsYD6/k/meea2w1g6CZBAcAhkRUCZ5xmcDmVNSIAE8kcgYwFlnmf+OotPIgESCBaBpASUeZ7B6jTWhgRIIBgEkhJQ38/JPM9gdB5rQQIkUFgCZQqo7hGk21cUYt/2wiLi00mABEggPoEyBRTWJg7mefIVIgESIIGSBMoUUFic2BlTRdTuk65F5XrfdnYaCZAACQSRQJkCCgv0u+++E92jnXmeQexG1okESKAQBJISUOZ5FqJr+EwSIIGgEyhTQBFEwrDdiig+53Pf9qBDZP1IgASiSaBMAdUgEvBYEd1nn33cJnHxfKLRRMlWkwAJRI1A0gJql63be++9ZdeuXQIR5UECJEACUSVQpoDCykQUXvNA8VutUrVIowqP7SYBEog2gTIFFCKpkXcVTwpntF8atp4ESOD/CSQtoLBCNaVp3333dRYphZSvEQmQQJQJJCWgEM/vv//eDeXVIoWA6k+UAbLtJEAC0SVQpoACDUTTWpu0PKP7wrDlJEACvxEoU0DtXHikLPnrfxImCZAACUSVQNICGlVAbDcJkAAJJCJAAeW7QQIkQAJpEqCApgmOt5EACZAABZTvAAmQAAmkSYACmiY43kYCJEACFFC+AyRAAiSQJgEKaJrgeBsJkAAJUED5DpAACZBAmgQooGmC420kQAIkQAHlO0ACJEACaRKggKYJjreRAAmQAAWU7wAJkAAJpEmAApomON5GAiRAAhRQvgMkQAIkkCYBCmia4HgbCZAACVBA+Q6QAAmQQJoEKKBpguNtJEACJEAB5TtAAiRAAmkSoICmCY63kQAJkAAFlO8ACZAACaRJgAKaJjjeRgIkQAIUUL4DJEACJJAmAQpomuB4GwmQAAlQQPkOkAAJkECaBCigaYLjbSRAAoUn8PPPP8vvfvc7+eWXX6RcuXIlKoRz+E6vwUl7zU8//SR77bVXRo2ggGaEjzeTAAkUmsAPP/wg++yzT0xErWD6wgrRxIFrcE+mBwU0U4K8nwRIoKAEVCQhivgZP368LFu2TB588EFnYV5wwQVyxhlnSL9+/Vw9v//+e9l3332FFmhBu40PJwESKDSBH3/8Ufbee+8S1ueWLVvk8MMPl4cfflh27dolN954oyxdutQJZvny5fcY1mfSBlqgmdDjvSRAAoEhAIGEPxR+zoceekhuuukmgcBOnjxZOnbs6M7hgMWKH/2cSQMooJnQ470kQAIFJaDDcbVE1b8JcWzQoIEcfPDB8vrrr7uhvQaM1EfKIXxBu44PJwESCAIBiCjEET8qqNOnT5frrrtONm7cKPPmzZM2bdpk1fep7aYFGoQ3gHUgARJIi4BG4O3NmzZtkpYtW7pg0meffSaPPPKILFmyxAWObFQ+axYozF+YvH4+FT7D3OVBAiRAAkEkEG84fvHFF8u2bdtkzpw5rspNmzaVXr16yahRo9xnvcemO6kQqyvAugRKa3e5n3/++RdNLtUcKdyA72ASQ7F5kAAJkEBQCSQSPXyv+Z6+xqk/VIf8tm0qpt99952L2pcqoD/88MMvSANQS9NGpvBQCmhQXxvWiwRIwFqU+NsO0ePNTlJi1sLU6D1+QwtxJCOeztBUC9T6EtQ3QAHlC0oCJBAGAr4/Uz9bIVTRVK17+eWX5dRTT42lPqGdKqbJpjntEUTSYbxGteywPgwgWUcSIIFoEfCtTghlvGmaGGXjWmgbrqlTp47s3LlTbrjhBhkxYkSJOfO+NZuIaLmffvrJOTnjJZXSAo3Wi8jWkkDYCFjx9P2ZsDQxJMf36su012Om0sCBA52Y4rprrrlGrr32WocgXnQ/HhtngWo0yvoFMAVqv/32c74AHiRAAiQQVAJW7CCQu3fvlooVK5aoLq6B5QlDEecrVKjgzteqVUu2bt3qvlerFVM/hw4dmtRKTSWG8Oo3UJVu27atvPrqq0HlxnqRAAmQgMvvhJWJAyKpQ3WLRkfTsDRhKOpnTdW0o22U16NHDzeXvqzl7hIm0rNfSIAESKBYCPjGoRqJaoFCQGG1YsQ9ZswYGTJkSFLL3VFAi+UNYTtIgAT2IAChtOlJ1gc6depU+dvf/uYsVgzrR48e7Xyg6sq0ifaJ0FJA+dKRAAkUNQG7SpP1f1avXl127NjhovAjR44skUOa9EwkBJGKmh4bRwIkEFkC8RLrYVlCVBcuXOiWudPl7TCMxw8t0Mi+Lmw4CZCAJQChhCgiWGT/TkQpmWF7ieAULVC+cCRAAsVOwAqjP3fe7qlkZ2Ems1oTfaDF/uawfSQQYQIYnutiyhBEfEYqk4pjvBWZgCtZS5QCGuGXi00ngTwz36gAAAAaSURBVGInoD5Qf2aRvx2ytUrBxO6zVBqj/wMqqVpZuhMBzAAAAABJRU5ErkJggg==](data:image/png;base64,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)\n",
    "\n",
    "**Input:** coordinates = [[1,2],[2,3],[3,4],[4,5],[5,6],[6,7]]\n",
    "\n",
    "**Output:** true\n",
    "\n",
    "</aside>"
   ]
  },
  {
   "cell_type": "code",
   "execution_count": 11,
   "id": "4e2f929d",
   "metadata": {},
   "outputs": [
    {
     "name": "stdout",
     "output_type": "stream",
     "text": [
      "True\n"
     ]
    }
   ],
   "source": [
    "def checkStraightLine(coordinates):\n",
    "    if len(coordinates) <= 2:\n",
    "        return True\n",
    "\n",
    "    x1, y1 = coordinates[0]\n",
    "    x2, y2 = coordinates[1]\n",
    "    initial_slope = (y2 - y1) / (x2 - x1)\n",
    "\n",
    "    for i in range(2, len(coordinates)):\n",
    "        xi, yi = coordinates[i]\n",
    "        current_slope = (yi - y1) / (xi - x1)\n",
    "\n",
    "        if current_slope != initial_slope:\n",
    "            return False\n",
    "\n",
    "    return True\n",
    "\n",
    "coordinates = [[1,2],[2,3],[3,4],[4,5],[5,6],[6,7]]\n",
    "print(checkStraightLine(coordinates))\n"
   ]
  },
  {
   "cell_type": "code",
   "execution_count": null,
   "id": "128076c5",
   "metadata": {},
   "outputs": [],
   "source": []
  }
 ],
 "metadata": {
  "kernelspec": {
   "display_name": "Python 3 (ipykernel)",
   "language": "python",
   "name": "python3"
  },
  "language_info": {
   "codemirror_mode": {
    "name": "ipython",
    "version": 3
   },
   "file_extension": ".py",
   "mimetype": "text/x-python",
   "name": "python",
   "nbconvert_exporter": "python",
   "pygments_lexer": "ipython3",
   "version": "3.10.7"
  }
 },
 "nbformat": 4,
 "nbformat_minor": 5
}
