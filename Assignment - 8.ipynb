{
 "cells": [
  {
   "cell_type": "markdown",
   "id": "e5241734",
   "metadata": {},
   "source": [
    "<aside>\n",
    "\n",
    "💡 **Question 1**\n",
    "\n",
    "Given two strings s1 and s2, return *the lowest **ASCII** sum of deleted characters to make two strings equal*.\n",
    "\n",
    "**Example 1:**\n",
    "\n",
    "**Input:** s1 = \"sea\", s2 = \"eat\"\n",
    "\n",
    "**Output:** 231\n",
    "\n",
    "**Explanation:** Deleting \"s\" from \"sea\" adds the ASCII value of \"s\" (115) to the sum.\n",
    "\n",
    "Deleting \"t\" from \"eat\" adds 116 to the sum.\n",
    "\n",
    "At the end, both strings are equal, and 115 + 116 = 231 is the minimum sum possible to achieve this.\n",
    "\n",
    "</aside>"
   ]
  },
  {
   "cell_type": "code",
   "execution_count": 1,
   "id": "abdd1dfe",
   "metadata": {},
   "outputs": [
    {
     "name": "stdout",
     "output_type": "stream",
     "text": [
      "231\n"
     ]
    }
   ],
   "source": [
    "def minimumDeleteSum(s1, s2):\n",
    "    m, n = len(s1), len(s2)\n",
    "    dp = [[0] * (n+1) for _ in range(m+1)]\n",
    "\n",
    "    for i in range(1, m+1):\n",
    "        dp[i][0] = dp[i-1][0] + ord(s1[i-1])\n",
    "\n",
    "    for j in range(1, n+1):\n",
    "        dp[0][j] = dp[0][j-1] + ord(s2[j-1])\n",
    "\n",
    "    for i in range(1, m+1):\n",
    "        for j in range(1, n+1):\n",
    "            if s1[i-1] == s2[j-1]:\n",
    "                dp[i][j] = dp[i-1][j-1]\n",
    "            else:\n",
    "                dp[i][j] = min(dp[i-1][j] + ord(s1[i-1]), dp[i][j-1] + ord(s2[j-1]))\n",
    "\n",
    "    return dp[m][n]\n",
    "\n",
    "s1 = \"sea\"\n",
    "s2 = \"eat\"\n",
    "print(minimumDeleteSum(s1, s2))  # Output: 231\n"
   ]
  },
  {
   "cell_type": "markdown",
   "id": "7792d7d2",
   "metadata": {},
   "source": [
    "<aside>\n",
    "\n",
    "💡 **Question 2**\n",
    "\n",
    "Given a string s containing only three types of characters: '(', ')' and '*', return true *if* s *is **valid***.\n",
    "\n",
    "The following rules define a **valid** string:\n",
    "\n",
    "- Any left parenthesis '(' must have a corresponding right parenthesis ')'.\n",
    "- Any right parenthesis ')' must have a corresponding left parenthesis '('.\n",
    "- Left parenthesis '(' must go before the corresponding right parenthesis ')'.\n",
    "- '*' could be treated as a single right parenthesis ')' or a single left parenthesis '(' or an empty string \"\".\n",
    "\n",
    "**Example 1:**\n",
    "\n",
    "**Input:** s = \"()\"\n",
    "\n",
    "**Output:**\n",
    "\n",
    "true\n",
    "\n",
    "</aside>"
   ]
  },
  {
   "cell_type": "code",
   "execution_count": 3,
   "id": "22b6acaa",
   "metadata": {},
   "outputs": [
    {
     "name": "stdout",
     "output_type": "stream",
     "text": [
      "True\n"
     ]
    }
   ],
   "source": [
    "def isValid(s):\n",
    "    stack = []\n",
    "    \n",
    "    for c in s:\n",
    "        if c == '(' or c == '*':\n",
    "            stack.append(c)\n",
    "        elif c == ')':\n",
    "            if stack:\n",
    "                if stack[-1] == '(':\n",
    "                    stack.pop()\n",
    "                elif stack[-1] == '*':\n",
    "                    stack.pop()\n",
    "                    if stack and stack[-1] == '(':\n",
    "                        stack.pop()\n",
    "                    else:\n",
    "                        stack.append('*')\n",
    "            else:\n",
    "                return False\n",
    "    \n",
    "    while stack:\n",
    "        if stack.pop() != '(':\n",
    "            return False\n",
    "    \n",
    "    return True\n",
    "\n",
    "s = \"()\"\n",
    "print(isValid(s))  # Output: True\n"
   ]
  },
  {
   "cell_type": "markdown",
   "id": "fe11210d",
   "metadata": {},
   "source": [
    "<aside>\n",
    "\n",
    "💡 **Question 3**\n",
    "\n",
    "Given two strings word1 and word2, return *the minimum number of **steps** required to make* word1 *and* word2 *the same*.\n",
    "\n",
    "In one **step**, you can delete exactly one character in either string.\n",
    "\n",
    "**Example 1:**\n",
    "\n",
    "**Input:** word1 = \"sea\", word2 = \"eat\"\n",
    "\n",
    "**Output:** 2\n",
    "\n",
    "**Explanation:** You need one step to make \"sea\" to \"ea\" and another step to make \"eat\" to \"ea\".\n",
    "\n",
    "</aside>"
   ]
  },
  {
   "cell_type": "code",
   "execution_count": 5,
   "id": "4996934b",
   "metadata": {},
   "outputs": [
    {
     "name": "stdout",
     "output_type": "stream",
     "text": [
      "2\n"
     ]
    }
   ],
   "source": [
    "def minDistance(word1, word2):\n",
    "    m, n = len(word1), len(word2)\n",
    "    dp = [[0] * (n+1) for _ in range(m+1)]\n",
    "\n",
    "    for i in range(1, m+1):\n",
    "        dp[i][0] = dp[i-1][0] + 1\n",
    "\n",
    "    for j in range(1, n+1):\n",
    "        dp[0][j] = dp[0][j-1] + 1\n",
    "\n",
    "    for i in range(1, m+1):\n",
    "        for j in range(1, n+1):\n",
    "            if word1[i-1] == word2[j-1]:\n",
    "                dp[i][j] = dp[i-1][j-1]\n",
    "            else:\n",
    "                dp[i][j] = min(dp[i-1][j] + 1, dp[i][j-1] + 1)\n",
    "\n",
    "    return dp[m][n]\n",
    "\n",
    "word1 = \"sea\"\n",
    "word2 = \"eat\"\n",
    "print(minDistance(word1, word2))  # Output: 2\n",
    "\n"
   ]
  },
  {
   "cell_type": "markdown",
   "id": "34f1e270",
   "metadata": {},
   "source": [
    "<aside>\n",
    "    \n",
    "💡 **Question 4**\n",
    "\n",
    "You need to construct a binary tree from a string consisting of parenthesis and integers.\n",
    "\n",
    "The whole input represents a binary tree. It contains an integer followed by zero, one or two pairs of parenthesis. The integer represents the root's value and a pair of parenthesis contains a child binary tree with the same structure.\n",
    "You always start to construct the **left** child node of the parent first if it exists.\n",
    "    \n",
    "Input: s = \"4(2(3)(1))(6(5))\"\n",
    "    \n",
    "Output: [4,2,6,3,1,5]\n",
    "\n",
    "</aside>"
   ]
  },
  {
   "cell_type": "code",
   "execution_count": 17,
   "id": "e19671d9",
   "metadata": {},
   "outputs": [
    {
     "ename": "ValueError",
     "evalue": "invalid literal for int() with base 10: ''",
     "output_type": "error",
     "traceback": [
      "\u001b[1;31m---------------------------------------------------------------------------\u001b[0m",
      "\u001b[1;31mValueError\u001b[0m                                Traceback (most recent call last)",
      "Cell \u001b[1;32mIn[17], line 56\u001b[0m\n\u001b[0;32m     53\u001b[0m     \u001b[38;5;28;01mreturn\u001b[39;00m inorderTraversal(root\u001b[38;5;241m.\u001b[39mleft) \u001b[38;5;241m+\u001b[39m [root\u001b[38;5;241m.\u001b[39mval] \u001b[38;5;241m+\u001b[39m inorderTraversal(root\u001b[38;5;241m.\u001b[39mright)\n\u001b[0;32m     55\u001b[0m s \u001b[38;5;241m=\u001b[39m \u001b[38;5;124m\"\u001b[39m\u001b[38;5;124m4(2(3)(1))(6(5))\u001b[39m\u001b[38;5;124m\"\u001b[39m\n\u001b[1;32m---> 56\u001b[0m tree \u001b[38;5;241m=\u001b[39m \u001b[43mbuildTree\u001b[49m\u001b[43m(\u001b[49m\u001b[43ms\u001b[49m\u001b[43m)\u001b[49m\n\u001b[0;32m     57\u001b[0m result \u001b[38;5;241m=\u001b[39m inorderTraversal(tree)\n\u001b[0;32m     58\u001b[0m \u001b[38;5;28mprint\u001b[39m(result)  \u001b[38;5;66;03m# Output: [4, 2, 3, 1, 6, 5]\u001b[39;00m\n",
      "Cell \u001b[1;32mIn[17], line 21\u001b[0m, in \u001b[0;36mbuildTree\u001b[1;34m(s)\u001b[0m\n\u001b[0;32m     18\u001b[0m rightSub \u001b[38;5;241m=\u001b[39m s[j\u001b[38;5;241m+\u001b[39m\u001b[38;5;241m1\u001b[39m:k]\n\u001b[0;32m     20\u001b[0m root \u001b[38;5;241m=\u001b[39m TreeNode(\u001b[38;5;28mint\u001b[39m(s[:i]))\n\u001b[1;32m---> 21\u001b[0m root\u001b[38;5;241m.\u001b[39mleft \u001b[38;5;241m=\u001b[39m \u001b[43mbuildTree\u001b[49m\u001b[43m(\u001b[49m\u001b[43mleftSub\u001b[49m\u001b[43m)\u001b[49m\n\u001b[0;32m     22\u001b[0m root\u001b[38;5;241m.\u001b[39mright \u001b[38;5;241m=\u001b[39m buildTree(rightSub)\n\u001b[0;32m     24\u001b[0m \u001b[38;5;28;01mreturn\u001b[39;00m root\n",
      "Cell \u001b[1;32mIn[17], line 22\u001b[0m, in \u001b[0;36mbuildTree\u001b[1;34m(s)\u001b[0m\n\u001b[0;32m     20\u001b[0m root \u001b[38;5;241m=\u001b[39m TreeNode(\u001b[38;5;28mint\u001b[39m(s[:i]))\n\u001b[0;32m     21\u001b[0m root\u001b[38;5;241m.\u001b[39mleft \u001b[38;5;241m=\u001b[39m buildTree(leftSub)\n\u001b[1;32m---> 22\u001b[0m root\u001b[38;5;241m.\u001b[39mright \u001b[38;5;241m=\u001b[39m \u001b[43mbuildTree\u001b[49m\u001b[43m(\u001b[49m\u001b[43mrightSub\u001b[49m\u001b[43m)\u001b[49m\n\u001b[0;32m     24\u001b[0m \u001b[38;5;28;01mreturn\u001b[39;00m root\n",
      "Cell \u001b[1;32mIn[17], line 20\u001b[0m, in \u001b[0;36mbuildTree\u001b[1;34m(s)\u001b[0m\n\u001b[0;32m     17\u001b[0m leftSub \u001b[38;5;241m=\u001b[39m s[i\u001b[38;5;241m+\u001b[39m\u001b[38;5;241m1\u001b[39m:j]\n\u001b[0;32m     18\u001b[0m rightSub \u001b[38;5;241m=\u001b[39m s[j\u001b[38;5;241m+\u001b[39m\u001b[38;5;241m1\u001b[39m:k]\n\u001b[1;32m---> 20\u001b[0m root \u001b[38;5;241m=\u001b[39m TreeNode(\u001b[38;5;28;43mint\u001b[39;49m\u001b[43m(\u001b[49m\u001b[43ms\u001b[49m\u001b[43m[\u001b[49m\u001b[43m:\u001b[49m\u001b[43mi\u001b[49m\u001b[43m]\u001b[49m\u001b[43m)\u001b[49m)\n\u001b[0;32m     21\u001b[0m root\u001b[38;5;241m.\u001b[39mleft \u001b[38;5;241m=\u001b[39m buildTree(leftSub)\n\u001b[0;32m     22\u001b[0m root\u001b[38;5;241m.\u001b[39mright \u001b[38;5;241m=\u001b[39m buildTree(rightSub)\n",
      "\u001b[1;31mValueError\u001b[0m: invalid literal for int() with base 10: ''"
     ]
    }
   ],
   "source": [
    "class TreeNode:\n",
    "    def __init__(self, val=0, left=None, right=None):\n",
    "        self.val = val\n",
    "        self.left = left\n",
    "        self.right = right\n",
    "\n",
    "def buildTree(s):\n",
    "    if not s:\n",
    "        return None\n",
    "\n",
    "    i = s.find('(')\n",
    "    if i == -1:\n",
    "        return TreeNode(int(s))\n",
    "\n",
    "    j, k = find_matching_parentheses(s, i)\n",
    "\n",
    "    leftSub = s[i+1:j]\n",
    "    rightSub = s[j+1:k]\n",
    "\n",
    "    root = TreeNode(int(s[:i]))\n",
    "    root.left = buildTree(leftSub)\n",
    "    root.right = buildTree(rightSub)\n",
    "\n",
    "    return root\n",
    "\n",
    "def find_matching_parentheses(s, start):\n",
    "    count = 1\n",
    "    j = start + 1\n",
    "    while j < len(s):\n",
    "        if s[j] == '(':\n",
    "            count += 1\n",
    "        elif s[j] == ')':\n",
    "            count -= 1\n",
    "        if count == 0:\n",
    "            break\n",
    "        j += 1\n",
    "\n",
    "    k = j + 1\n",
    "    while k < len(s):\n",
    "        if s[k] == '(':\n",
    "            count += 1\n",
    "        elif s[k] == ')':\n",
    "            count -= 1\n",
    "        if count == 0:\n",
    "            break\n",
    "        k += 1\n",
    "\n",
    "    return j, k\n",
    "\n",
    "def inorderTraversal(root):\n",
    "    if not root:\n",
    "        return []\n",
    "    return inorderTraversal(root.left) + [root.val] + inorderTraversal(root.right)\n",
    "\n",
    "s = \"4(2(3)(1))(6(5))\"\n",
    "tree = buildTree(s)\n",
    "result = inorderTraversal(tree)\n",
    "print(result)  # Output: [4, 2, 3, 1, 6, 5]\n",
    "\n"
   ]
  },
  {
   "cell_type": "markdown",
   "id": "579aba13",
   "metadata": {},
   "source": [
    "<aside>\n",
    "\n",
    "💡 **Question 5**\n",
    "\n",
    "Given an array of characters chars, compress it using the following algorithm:\n",
    "\n",
    "Begin with an empty string s. For each group of **consecutive repeating characters** in chars:\n",
    "\n",
    "- If the group's length is 1, append the character to s.\n",
    "- Otherwise, append the character followed by the group's length.\n",
    "\n",
    "The compressed string s **should not be returned separately**, but instead, be stored **in the input character array chars**. Note that group lengths that are 10 or longer will be split into multiple characters in chars.\n",
    "\n",
    "After you are done **modifying the input array,** return *the new length of the array*.\n",
    "\n",
    "You must write an algorithm that uses only constant extra space.\n",
    "\n",
    "**Example 1:**\n",
    "\n",
    "**Input:** chars = [\"a\",\"a\",\"b\",\"b\",\"c\",\"c\",\"c\"]\n",
    "\n",
    "**Output:** Return 6, and the first 6 characters of the input array should be: [\"a\",\"2\",\"b\",\"2\",\"c\",\"3\"]\n",
    "\n",
    "**Explanation:**\n",
    "\n",
    "The groups are \"aa\", \"bb\", and \"ccc\". This compresses to \"a2b2c3\".\n",
    "\n",
    "</aside>"
   ]
  },
  {
   "cell_type": "code",
   "execution_count": 18,
   "id": "8593d893",
   "metadata": {},
   "outputs": [
    {
     "name": "stdout",
     "output_type": "stream",
     "text": [
      "6\n",
      "['a', '2', 'b', '2', 'c', '3']\n"
     ]
    }
   ],
   "source": [
    "def compress(chars):\n",
    "    read = write = 0\n",
    "    count = 1\n",
    "\n",
    "    for read in range(1, len(chars)):\n",
    "        if chars[read] == chars[read - 1]:\n",
    "            count += 1\n",
    "        else:\n",
    "            chars[write] = chars[read - 1]\n",
    "            write += 1\n",
    "            if count > 1:\n",
    "                for digit in str(count):\n",
    "                    chars[write] = digit\n",
    "                    write += 1\n",
    "            count = 1\n",
    "\n",
    "    chars[write] = chars[read]\n",
    "    write += 1\n",
    "    if count > 1:\n",
    "        for digit in str(count):\n",
    "            chars[write] = digit\n",
    "            write += 1\n",
    "\n",
    "    return write\n",
    "chars = [\"a\", \"a\", \"b\", \"b\", \"c\", \"c\", \"c\"]\n",
    "length = compress(chars)\n",
    "compressed_chars = chars[:length]\n",
    "print(length)  # Output: 6\n",
    "print(compressed_chars)  # Output: ['a', '2', 'b', '2', 'c', '3']\n"
   ]
  },
  {
   "cell_type": "markdown",
   "id": "c31fe1c7",
   "metadata": {},
   "source": [
    "<aside>\n",
    "\n",
    "💡 **Question 6**\n",
    "\n",
    "Given two strings s and p, return *an array of all the start indices of* p*'s anagrams in* s. You may return the answer in **any order**.\n",
    "\n",
    "An **Anagram** is a word or phrase formed by rearranging the letters of a different word or phrase, typically using all the original letters exactly once.\n",
    "\n",
    "**Example 1:**\n",
    "\n",
    "**Input:** s = \"cbaebabacd\", p = \"abc\"\n",
    "\n",
    "**Output:** [0,6]\n",
    "\n",
    "**Explanation:**\n",
    "\n",
    "The substring with start index = 0 is \"cba\", which is an anagram of \"abc\".\n",
    "\n",
    "The substring with start index = 6 is \"bac\", which is an anagram of \"abc\".\n",
    "\n",
    "</aside>"
   ]
  },
  {
   "cell_type": "code",
   "execution_count": 20,
   "id": "324cca92",
   "metadata": {},
   "outputs": [
    {
     "name": "stdout",
     "output_type": "stream",
     "text": [
      "[0, 6]\n"
     ]
    }
   ],
   "source": [
    "from collections import Counter\n",
    "\n",
    "def findAnagrams(s, p):\n",
    "    indices = []\n",
    "    freq_p = Counter(p)\n",
    "    freq_window = Counter()\n",
    "\n",
    "    left = right = 0\n",
    "    window_size = len(p)\n",
    "\n",
    "    while right < len(s):\n",
    "        freq_window[s[right]] += 1\n",
    "\n",
    "        if right - left + 1 == window_size:\n",
    "            if freq_p == freq_window:\n",
    "                indices.append(left)\n",
    "\n",
    "            freq_window[s[left]] -= 1\n",
    "            if freq_window[s[left]] == 0:\n",
    "                del freq_window[s[left]]\n",
    "            left += 1\n",
    "\n",
    "        right += 1\n",
    "\n",
    "    return indices\n",
    "\n",
    "s = \"cbaebabacd\"\n",
    "p = \"abc\"\n",
    "indices = findAnagrams(s, p)\n",
    "print(indices)  # Output: [0, 6]\n"
   ]
  },
  {
   "cell_type": "markdown",
   "id": "50bb01a7",
   "metadata": {},
   "source": [
    "<aside>\n",
    "\n",
    "💡 **Question 7**\n",
    "\n",
    "Given an encoded string, return its decoded string.\n",
    "\n",
    "The encoding rule is: k[encoded_string], where the encoded_string inside the square brackets is being repeated exactly k times. Note that k is guaranteed to be a positive integer.\n",
    "\n",
    "You may assume that the input string is always valid; there are no extra white spaces, square brackets are well-formed, etc. Furthermore, you may assume that the original data does not contain any digits and that digits are only for those repeat numbers, k. For example, there will not be input like 3a or 2[4].\n",
    "\n",
    "The test cases are generated so that the length of the output will never exceed 105.\n",
    "\n",
    "**Example 1:**\n",
    "\n",
    "**Input:** s = \"3[a]2[bc]\"\n",
    "\n",
    "**Output:** \"aaabcbc\"\n",
    "\n",
    "</aside>"
   ]
  },
  {
   "cell_type": "code",
   "execution_count": 22,
   "id": "965795c0",
   "metadata": {},
   "outputs": [
    {
     "name": "stdout",
     "output_type": "stream",
     "text": [
      "aaabcbc\n"
     ]
    }
   ],
   "source": [
    "def decodeString(s):\n",
    "    stack = []\n",
    "    current_string = ''\n",
    "    current_num = 0\n",
    "\n",
    "    for c in s:\n",
    "        if c.isdigit():\n",
    "            current_num = current_num * 10 + int(c)\n",
    "        elif c == '[':\n",
    "            stack.append(current_num)\n",
    "            stack.append(current_string)\n",
    "            current_num = 0\n",
    "            current_string = ''\n",
    "        elif c == ']':\n",
    "            prev_string = stack.pop()\n",
    "            prev_num = stack.pop()\n",
    "            current_string = prev_string + prev_num * current_string\n",
    "        else:\n",
    "            current_string += c\n",
    "\n",
    "    return current_string\n",
    "\n",
    "s = \"3[a]2[bc]\"\n",
    "decoded_string = decodeString(s)\n",
    "print(decoded_string)  # Output: \"aaabcbc\"\n"
   ]
  },
  {
   "cell_type": "markdown",
   "id": "9356ab3a",
   "metadata": {},
   "source": [
    "<aside>\n",
    "\n",
    "💡 **Question 8**\n",
    "\n",
    "Given two strings s and goal, return true *if you can swap two letters in* s *so the result is equal to* goal*, otherwise, return* false*.*\n",
    "\n",
    "Swapping letters is defined as taking two indices i and j (0-indexed) such that i != j and swapping the characters at s[i] and s[j].\n",
    "\n",
    "- For example, swapping at indices 0 and 2 in \"abcd\" results in \"cbad\".\n",
    "\n",
    "**Example 1:**\n",
    "\n",
    "**Input:** s = \"ab\", goal = \"ba\"\n",
    "\n",
    "**Output:** true\n",
    "\n",
    "**Explanation:** You can swap s[0] = 'a' and s[1] = 'b' to get \"ba\", which is equal to goal.\n",
    "\n",
    "</aside>"
   ]
  },
  {
   "cell_type": "code",
   "execution_count": 24,
   "id": "be83c739",
   "metadata": {},
   "outputs": [
    {
     "name": "stdout",
     "output_type": "stream",
     "text": [
      "True\n"
     ]
    }
   ],
   "source": [
    "def buddyStrings(s, goal):\n",
    "    if len(s) != len(goal):\n",
    "        return False\n",
    "\n",
    "    mismatch_s = []\n",
    "    mismatch_goal = []\n",
    "\n",
    "    for char_s, char_goal in zip(s, goal):\n",
    "        if char_s != char_goal:\n",
    "            mismatch_s.append(char_s)\n",
    "            mismatch_goal.append(char_goal)\n",
    "\n",
    "    if len(mismatch_s) == 2 and mismatch_s == mismatch_goal[::-1]:\n",
    "        return True\n",
    "\n",
    "    if len(mismatch_s) == 0 and len(set(s)) < len(s):\n",
    "        return True\n",
    "\n",
    "    return False\n",
    "\n",
    "s = \"ab\"\n",
    "goal = \"ba\"\n",
    "result = buddyStrings(s, goal)\n",
    "print(result)  # Output: True\n"
   ]
  },
  {
   "cell_type": "code",
   "execution_count": null,
   "id": "fa8c7221",
   "metadata": {},
   "outputs": [],
   "source": []
  }
 ],
 "metadata": {
  "kernelspec": {
   "display_name": "Python 3 (ipykernel)",
   "language": "python",
   "name": "python3"
  },
  "language_info": {
   "codemirror_mode": {
    "name": "ipython",
    "version": 3
   },
   "file_extension": ".py",
   "mimetype": "text/x-python",
   "name": "python",
   "nbconvert_exporter": "python",
   "pygments_lexer": "ipython3",
   "version": "3.10.7"
  }
 },
 "nbformat": 4,
 "nbformat_minor": 5
}
