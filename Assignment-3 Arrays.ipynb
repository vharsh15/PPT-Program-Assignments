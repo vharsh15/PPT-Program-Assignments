{
 "cells": [
  {
   "cell_type": "markdown",
   "id": "f484eba0",
   "metadata": {},
   "source": [
    "    \t\t\t\t\t\t\t\t\t\t\t\tAssignment-3 Arrays\n",
    "                                                    Name: Aman Yadav\n",
    "                                                    email : amanyadav18072000@gmail.com"
   ]
  },
  {
   "cell_type": "markdown",
   "id": "e6962741",
   "metadata": {},
   "source": [
    "Question 1\n",
    "Given an integer array nums of length n and an integer target, find three integers\n",
    "in nums such that the sum is closest to the target.\n",
    "Return the sum of the three integers.\n",
    "\n",
    "You may assume that each input would have exactly one solution.\n",
    "\n",
    "Example 1:\n",
    "Input: nums = [-1,2,1,-4], target = 1\n",
    "Output: 2\n",
    "\n",
    "Explanation: The sum that is closest to the target is 2. (-1 + 2 + 1 = 2)."
   ]
  },
  {
   "cell_type": "code",
   "execution_count": 1,
   "id": "437ce974",
   "metadata": {},
   "outputs": [],
   "source": [
    "def threeSumClosest(nums, target):\n",
    "    nums.sort()  # Sort the array in ascending order\n",
    "    closestSum = float('inf')  # Initialize closestSum to a large value\n",
    "\n",
    "    for i in range(len(nums) - 2):\n",
    "        left = i + 1\n",
    "        right = len(nums) - 1\n",
    "\n",
    "        while left < right:\n",
    "            currentSum = nums[i] + nums[left] + nums[right]\n",
    "\n",
    "            if currentSum == target:\n",
    "                return target\n",
    "\n",
    "            if abs(currentSum - target) < abs(closestSum - target):\n",
    "                closestSum = currentSum\n",
    "\n",
    "            if currentSum < target:\n",
    "                left += 1\n",
    "            else:\n",
    "                right -= 1\n",
    "\n",
    "    return closestSum\n"
   ]
  },
  {
   "cell_type": "code",
   "execution_count": 2,
   "id": "348e2f90",
   "metadata": {},
   "outputs": [
    {
     "name": "stdout",
     "output_type": "stream",
     "text": [
      "2\n"
     ]
    }
   ],
   "source": [
    "nums = [-1, 2, 1, -4]\n",
    "target = 1\n",
    "result = threeSumClosest(nums, target)\n",
    "print(result)  # Output: 2\n"
   ]
  },
  {
   "cell_type": "markdown",
   "id": "a6264515",
   "metadata": {},
   "source": [
    "Question 2\n",
    "Given an array nums of n integers, return an array of all the unique quadruplets\n",
    "[nums[a], nums[b], nums[c], nums[d]] such that:\n",
    "           ● 0 <= a, b, c, d < n\n",
    "           ● a, b, c, and d are distinct.\n",
    "           ● nums[a] + nums[b] + nums[c] + nums[d] == target\n",
    "\n",
    "You may return the answer in any order.\n",
    "\n",
    "Example 1:\n",
    "Input: nums = [1,0,-1,0,-2,2], target = 0\n",
    "Output: [[-2,-1,1,2],[-2,0,0,2],[-1,0,0,1]]"
   ]
  },
  {
   "cell_type": "code",
   "execution_count": 3,
   "id": "6ab0b32b",
   "metadata": {},
   "outputs": [],
   "source": [
    "def fourSum(nums, target):\n",
    "    nums.sort()  # Sort the array in ascending order\n",
    "    result = []\n",
    "\n",
    "    for i in range(len(nums) - 3):\n",
    "        if i > 0 and nums[i] == nums[i - 1]:\n",
    "            continue\n",
    "\n",
    "        for j in range(i + 1, len(nums) - 2):\n",
    "            if j > i + 1 and nums[j] == nums[j - 1]:\n",
    "                continue\n",
    "\n",
    "            left = j + 1\n",
    "            right = len(nums) - 1\n",
    "\n",
    "            while left < right:\n",
    "                currentSum = nums[i] + nums[j] + nums[left] + nums[right]\n",
    "\n",
    "                if currentSum == target:\n",
    "                    result.append([nums[i], nums[j], nums[left], nums[right]])\n",
    "                    left += 1\n",
    "                    right -= 1\n",
    "\n",
    "                    while left < right and nums[left] == nums[left - 1]:\n",
    "                        left += 1\n",
    "\n",
    "                    while left < right and nums[right] == nums[right + 1]:\n",
    "                        right -= 1\n",
    "\n",
    "                elif currentSum < target:\n",
    "                    left += 1\n",
    "                else:\n",
    "                    right -= 1\n",
    "\n",
    "    return result\n"
   ]
  },
  {
   "cell_type": "code",
   "execution_count": 4,
   "id": "fbe5345a",
   "metadata": {},
   "outputs": [
    {
     "name": "stdout",
     "output_type": "stream",
     "text": [
      "[[-2, -1, 1, 2], [-2, 0, 0, 2], [-1, 0, 0, 1]]\n"
     ]
    }
   ],
   "source": [
    "nums = [1, 0, -1, 0, -2, 2]\n",
    "target = 0\n",
    "result = fourSum(nums, target)\n",
    "print(result)  # Output: [[-2, -1, 1, 2], [-2, 0, 0, 2], [-1, 0, 0, 1]]\n"
   ]
  },
  {
   "cell_type": "markdown",
   "id": "0f5d6061",
   "metadata": {},
   "source": [
    "<aside>\n",
    "💡 **Question 3**\n",
    "A permutation of an array of integers is an arrangement of its members into a\n",
    "sequence or linear order.\n",
    "\n",
    "For example, for arr = [1,2,3], the following are all the permutations of arr:\n",
    "[1,2,3], [1,3,2], [2, 1, 3], [2, 3, 1], [3,1,2], [3,2,1].\n",
    "\n",
    "The next permutation of an array of integers is the next lexicographically greater\n",
    "permutation of its integer. More formally, if all the permutations of the array are\n",
    "sorted in one container according to their lexicographical order, then the next\n",
    "permutation of that array is the permutation that follows it in the sorted container.\n",
    "\n",
    "If such an arrangement is not possible, the array must be rearranged as the\n",
    "lowest possible order (i.e., sorted in ascending order).\n",
    "\n",
    "● For example, the next permutation of arr = [1,2,3] is [1,3,2].\n",
    "● Similarly, the next permutation of arr = [2,3,1] is [3,1,2].\n",
    "● While the next permutation of arr = [3,2,1] is [1,2,3] because [3,2,1] does not\n",
    "have a lexicographical larger rearrangement.\n",
    "\n",
    "Given an array of integers nums, find the next permutation of nums.\n",
    "The replacement must be in place and use only constant extra memory.\n",
    "\n",
    "**Example 1:**\n",
    "Input: nums = [1,2,3]\n",
    "Output: [1,3,2]\n",
    "\n",
    "</aside>"
   ]
  },
  {
   "cell_type": "code",
   "execution_count": 5,
   "id": "7fff7b2d",
   "metadata": {},
   "outputs": [],
   "source": [
    "def nextPermutation(nums):\n",
    "    # Find the first pair of adjacent elements in descending order\n",
    "    i = len(nums) - 2\n",
    "    while i >= 0 and nums[i] >= nums[i + 1]:\n",
    "        i -= 1\n",
    "\n",
    "    if i >= 0:\n",
    "        # Find the index of the element just greater than nums[i]\n",
    "        j = len(nums) - 1\n",
    "        while j > i and nums[j] <= nums[i]:\n",
    "            j -= 1\n",
    "        # Swap nums[i] with nums[j]\n",
    "        nums[i], nums[j] = nums[j], nums[i]\n",
    "\n",
    "    # Reverse the subarray from index i+1 to the end\n",
    "    left = i + 1\n",
    "    right = len(nums) - 1\n",
    "    while left < right:\n",
    "        nums[left], nums[right] = nums[right], nums[left]\n",
    "        left += 1\n",
    "        right -= 1\n",
    "\n",
    "    return nums\n"
   ]
  },
  {
   "cell_type": "code",
   "execution_count": 6,
   "id": "ded2e965",
   "metadata": {},
   "outputs": [
    {
     "name": "stdout",
     "output_type": "stream",
     "text": [
      "[1, 3, 2]\n"
     ]
    }
   ],
   "source": [
    "nums = [1, 2, 3]\n",
    "result = nextPermutation(nums)\n",
    "print(result)  # Output: [1, 3, 2]\n"
   ]
  },
  {
   "cell_type": "markdown",
   "id": "ebb525f9",
   "metadata": {},
   "source": [
    "Question 4\n",
    "Given a sorted array of distinct integers and a target value, return the index if the\n",
    "target is found. If not, return the index where it would be if it were inserted in\n",
    "order.\n",
    "\n",
    "You must write an algorithm with O(log n) runtime complexity.\n",
    "\n",
    "Example 1:\n",
    "Input: nums = [1,3,5,6], target = 5\n",
    "Output: 2"
   ]
  },
  {
   "cell_type": "code",
   "execution_count": 7,
   "id": "742c9ae0",
   "metadata": {},
   "outputs": [],
   "source": [
    "def searchInsert(nums, target):\n",
    "    left = 0\n",
    "    right = len(nums) - 1\n",
    "\n",
    "    while left <= right:\n",
    "        mid = (left + right) // 2\n",
    "\n",
    "        if nums[mid] == target:\n",
    "            return mid\n",
    "        elif nums[mid] < target:\n",
    "            left = mid + 1\n",
    "        else:\n",
    "            right = mid - 1\n",
    "\n",
    "    return left\n"
   ]
  },
  {
   "cell_type": "code",
   "execution_count": 8,
   "id": "cee70c60",
   "metadata": {},
   "outputs": [
    {
     "name": "stdout",
     "output_type": "stream",
     "text": [
      "2\n"
     ]
    }
   ],
   "source": [
    "nums = [1, 3, 5, 6]\n",
    "target = 5\n",
    "result = searchInsert(nums, target)\n",
    "print(result)  # Output: 2\n"
   ]
  },
  {
   "cell_type": "markdown",
   "id": "94991460",
   "metadata": {},
   "source": [
    "<aside>\n",
    "💡 **Question 5**\n",
    "You are given a large integer represented as an integer array digits, where each\n",
    "digits[i] is the ith digit of the integer. The digits are ordered from most significant\n",
    "to least significant in left-to-right order. The large integer does not contain any\n",
    "leading 0's.\n",
    "\n",
    "Increment the large integer by one and return the resulting array of digits.\n",
    "\n",
    "**Example 1:**\n",
    "Input: digits = [1,2,3]\n",
    "Output: [1,2,4]\n",
    "\n",
    "**Explanation:** The array represents the integer 123.\n",
    "Incrementing by one gives 123 + 1 = 124.\n",
    "Thus, the result should be [1,2,4].\n",
    "\n",
    "</aside>"
   ]
  },
  {
   "cell_type": "code",
   "execution_count": 10,
   "id": "8797b9b8",
   "metadata": {},
   "outputs": [],
   "source": [
    "def plusOne(digits):\n",
    "    carry = 1\n",
    "\n",
    "    for i in range(len(digits) - 1, -1, -1):\n",
    "        digits[i] += carry\n",
    "\n",
    "        if digits[i] == 10:\n",
    "            digits[i] = 0\n",
    "        else:\n",
    "            carry = 0\n",
    "            break\n",
    "\n",
    "    if carry == 1:\n",
    "        digits.insert(0, 1)\n",
    "\n",
    "    return digits\n"
   ]
  },
  {
   "cell_type": "code",
   "execution_count": 11,
   "id": "3c7c3996",
   "metadata": {},
   "outputs": [
    {
     "name": "stdout",
     "output_type": "stream",
     "text": [
      "[1, 2, 4]\n"
     ]
    }
   ],
   "source": [
    "digits = [1, 2, 3]\n",
    "result = plusOne(digits)\n",
    "print(result)  # Output: [1, 2, 4]\n"
   ]
  },
  {
   "cell_type": "markdown",
   "id": "e9bd418d",
   "metadata": {},
   "source": [
    "Question 6\n",
    "Given a non-empty array of integers nums, every element appears twice except\n",
    "for one. Find that single one.\n",
    "\n",
    "You must implement a solution with a linear runtime complexity and use only\n",
    "constant extra space.\n",
    "\n",
    "Example 1:\n",
    "Input: nums = [2,2,1]\n",
    "Output: 1"
   ]
  },
  {
   "cell_type": "code",
   "execution_count": 12,
   "id": "af6f701c",
   "metadata": {},
   "outputs": [],
   "source": [
    "def singleNumber(nums):\n",
    "    result = 0\n",
    "\n",
    "    for num in nums:\n",
    "        result ^= num\n",
    "\n",
    "    return result\n"
   ]
  },
  {
   "cell_type": "code",
   "execution_count": 13,
   "id": "df488fae",
   "metadata": {},
   "outputs": [
    {
     "name": "stdout",
     "output_type": "stream",
     "text": [
      "1\n"
     ]
    }
   ],
   "source": [
    "nums = [2, 2, 1]\n",
    "result = singleNumber(nums)\n",
    "print(result)  # Output: 1\n"
   ]
  },
  {
   "cell_type": "markdown",
   "id": "4632f4de",
   "metadata": {},
   "source": [
    "Question 7\n",
    "You are given an inclusive range [lower, upper] and a sorted unique integer array\n",
    "nums, where all elements are within the inclusive range.\n",
    "\n",
    "A number x is considered missing if x is in the range [lower, upper] and x is not in\n",
    "nums.\n",
    "\n",
    "Return the shortest sorted list of ranges that exactly covers all the missing\n",
    "numbers. That is, no element of nums is included in any of the ranges, and each\n",
    "missing number is covered by one of the ranges.\n",
    "\n",
    "Example 1:\n",
    "Input: nums = [0,1,3,50,75], lower = 0, upper = 99\n",
    "Output: [[2,2],[4,49],[51,74],[76,99]]\n",
    "\n",
    "Explanation: The ranges are:\n",
    "[2,2]\n",
    "[4,49]\n",
    "[51,74]\n",
    "[76,99]"
   ]
  },
  {
   "cell_type": "code",
   "execution_count": 14,
   "id": "5beed952",
   "metadata": {},
   "outputs": [],
   "source": [
    "def findMissingRanges(nums, lower, upper):\n",
    "    result = []\n",
    "    start = lower\n",
    "\n",
    "    for num in nums:\n",
    "        if num == start:\n",
    "            start += 1\n",
    "        elif num > start:\n",
    "            if start == num - 1:\n",
    "                result.append([start, start])\n",
    "            else:\n",
    "                result.append([start, num - 1])\n",
    "            start = num + 1\n",
    "\n",
    "    if start <= upper:\n",
    "        result.append([start, upper])\n",
    "\n",
    "    return result\n"
   ]
  },
  {
   "cell_type": "code",
   "execution_count": 15,
   "id": "79b5dab3",
   "metadata": {},
   "outputs": [
    {
     "name": "stdout",
     "output_type": "stream",
     "text": [
      "[[2, 2], [4, 49], [51, 74], [76, 99]]\n"
     ]
    }
   ],
   "source": [
    "nums = [0, 1, 3, 50, 75]\n",
    "lower = 0\n",
    "upper = 99\n",
    "result = findMissingRanges(nums, lower, upper)\n",
    "print(result)  # Output: [[2, 2], [4, 49], [51, 74], [76, 99]]\n"
   ]
  },
  {
   "cell_type": "markdown",
   "id": "ceb9a810",
   "metadata": {},
   "source": [
    "Question 8\n",
    "Given an array of meeting time intervals where intervals[i] = [starti, endi],\n",
    "determine if a person could attend all meetings.\n",
    "\n",
    "Example 1:\n",
    "Input: intervals = [[0,30],[5,10],[15,20]]\n",
    "Output: false"
   ]
  },
  {
   "cell_type": "code",
   "execution_count": 16,
   "id": "3d36e8dc",
   "metadata": {},
   "outputs": [],
   "source": [
    "def canAttendMeetings(intervals):\n",
    "    intervals.sort(key=lambda x: x[0])  # Sort intervals based on start time\n",
    "\n",
    "    for i in range(1, len(intervals)):\n",
    "        if intervals[i][0] < intervals[i - 1][1]:\n",
    "            return False\n",
    "\n",
    "    return True\n"
   ]
  },
  {
   "cell_type": "code",
   "execution_count": 17,
   "id": "d774b598",
   "metadata": {},
   "outputs": [
    {
     "name": "stdout",
     "output_type": "stream",
     "text": [
      "False\n"
     ]
    }
   ],
   "source": [
    "intervals = [[0, 30], [5, 10], [15, 20]]\n",
    "result = canAttendMeetings(intervals)\n",
    "print(result)  # Output: False\n"
   ]
  }
 ],
 "metadata": {
  "kernelspec": {
   "display_name": "Python 3 (ipykernel)",
   "language": "python",
   "name": "python3"
  },
  "language_info": {
   "codemirror_mode": {
    "name": "ipython",
    "version": 3
   },
   "file_extension": ".py",
   "mimetype": "text/x-python",
   "name": "python",
   "nbconvert_exporter": "python",
   "pygments_lexer": "ipython3",
   "version": "3.10.4"
  }
 },
 "nbformat": 4,
 "nbformat_minor": 5
}
